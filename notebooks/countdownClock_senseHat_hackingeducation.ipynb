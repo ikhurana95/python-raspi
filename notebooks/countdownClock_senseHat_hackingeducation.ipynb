{
 "cells": [
  {
   "cell_type": "markdown",
   "metadata": {},
   "source": [
    "# Project: **Countdown Clock**\n",
    "\n",
    "### Difficulty level: Hard\n",
    "\n",
    "---"
   ]
  },
  {
   "cell_type": "code",
   "execution_count": 2,
   "metadata": {},
   "outputs": [
    {
     "data": {
      "text/html": [
       "\n",
       "        <iframe\n",
       "            width=\"700\"\n",
       "            height=\"350\"\n",
       "            src=\"https://trinket.io/embed/python/94bcfa1346?outputOnly=true&runOption=run&start=result\"\n",
       "            frameborder=\"0\"\n",
       "            allowfullscreen\n",
       "        ></iframe>\n",
       "        "
      ],
      "text/plain": [
       "<IPython.lib.display.IFrame at 0x2485e3cee48>"
      ]
     },
     "execution_count": 2,
     "metadata": {},
     "output_type": "execute_result"
    }
   ],
   "source": [
    "#Remember to run each code cell as you go along (click on this code cell then press SHIFT+ENTER)\n",
    "from IPython.display import IFrame\n",
    "IFrame('https://trinket.io/embed/python/94bcfa1346?outputOnly=true&runOption=run&start=result', width=700, height=350)\n",
    "#when the output loads, use the arrow keys in the output to select a number then press enter"
   ]
  },
  {
   "cell_type": "markdown",
   "metadata": {},
   "source": [
    "## Description\n",
    "\n",
    "In this project you will be creating a simple countdown clock. The user should be able to set a number from 0 to 99, and the clock will tick from that number down to 0.\n",
    "\n",
    "## Project Manual\n",
    "\n",
    "This project guide will tell you step-by-step the main things you have to do\n",
    "in order to create the count down clock programme. For some of the steps, you'll have to\n",
    "use your own creativity to proceed, good luck!\n",
    "\n",
    "---\n"
   ]
  },
  {
   "cell_type": "markdown",
   "metadata": {},
   "source": [
    "## 1. Introducing the project\n",
    "\n",
    "You will be coding within this notebook, which means you're running this notebook on your raspberry pi. \n",
    "\n",
    "To start with we'll look at the skeleton code. \n",
    "\n",
    "This is the overall structure of the programme you are going to write: \n",
    "```python\n",
    "###### 1. Initialising the project #############################################\n",
    "\n",
    "#### 1.1 Import libraries\n",
    "\n",
    "from sense_hat import SenseHat\n",
    "from senselib import *\n",
    "import random\n",
    "\n",
    "#### 1.2 Initialisation\n",
    "\n",
    "sense = SenseHat() # This will be used to control the the SenseHat.\n",
    "initialise(sense) # Initialises the senselib library, that provides us with some useful functions\n",
    "sense.clear() # Clears all pixels on the screen.\n",
    "\n",
    "#### 1.3 Set up the variables\n",
    "\n",
    "countdown = 10\n",
    "number_colour = [0, 0, 0]\n",
    "countdownMessage = \"\"\n",
    "\n",
    "###### 2. Set the countdown clock ##############################################\n",
    "\n",
    "#### 2.1 Create a while-loop\n",
    "\n",
    "\n",
    "#### 2.2 Let the user choose the countdown time\n",
    "\n",
    "\n",
    "\n",
    "#### Bonus: Don't let the number go under 0 or over 99\n",
    "\n",
    "\n",
    "\n",
    "#### 2.3 Draw the current countdown time\n",
    "\n",
    "\n",
    "\n",
    "###### 3. Count down the time ##################################################\n",
    "\n",
    "#### 3.1 Create a for-loop\n",
    "\n",
    "\n",
    "\n",
    "#### 3.2 Draw the countdown number\n",
    "\n",
    "\n",
    "\n",
    "#### 3.3 Wait a second\n",
    "\n",
    "\n",
    "\n",
    "#### 4. Clock has finished #####################################################\n",
    "\n",
    "```\n",
    "\n",
    "As you might see, the skeleton code is split up into sections, divided by the headlines.\n",
    "For example:\n",
    "\n",
    "```python \n",
    "    #### 2. Main code section\n",
    "```\n",
    "When you set about your task you should let these headlines guide you on what to\n",
    "do in each part of the code. The next part of this guide will explain the stuff that's\n",
    "already in the skeleton code when you first open it.\n",
    "\n",
    "Note: The text starting with a '#' is called a comment. These comments explain what the code does\n",
    "to programmers and people reading the code, but is ignored by the computer.\n",
    "\n",
    "##### Explanation of the skeleton code\n",
    "\n",
    "The first few lines in the script are:\n",
    "\n",
    "```python \n",
    "    \n",
    "    # 1.1 Import libraries\n",
    "    from sense_hat import SenseHat\n",
    "    from senseGraphics import *\n",
    "    import random\n",
    "    from senselib import *\n",
    "    import time\n",
    "    \n",
    "    # (1.2) Initialisation\n",
    "\n",
    "    sense = SenseHat() # This will be used to control the the SenseHat.\n",
    "    initialise(sense) # Initialises the senselib library, that provides us with some useful functions\n",
    "    sense.set_imu_config(False, False, True) \n",
    "    sense.clear() # Clears all pixels on the screen.\n",
    "\n",
    "\n",
    "```\n",
    "Without going into detail, these lines are called *import statements*. They are\n",
    "used to *import* code from other Python files into your own file. This is useful\n",
    "because you can use other people's code to simplify your own.\n",
    "\n",
    "The next part of the code (Sec. 1.2) creates some important Objects (don't worry if you're not sure what that means) that we'll use in the later on.\n",
    "\n",
    "Sec. 1.3 is where the initial variables of the project are set up. You'll need to edit these values later on in order to customize the it.\n",
    "\n",
    "Sec. 2 is where you'll let the user set how many seconds the timer should count.\n",
    "\n",
    "Sec. 3 is where the actual counting happens.\n",
    "\n",
    "Sec. 4 is where you let the user know that the countdown has finished.\n"
   ]
  },
  {
   "cell_type": "markdown",
   "metadata": {},
   "source": [
    "---\n",
    "## 2. Writing Code"
   ]
  },
  {
   "cell_type": "markdown",
   "metadata": {},
   "source": [
    "##### (Sec. 1.3) Set up the variables\n",
    "\n",
    "In this section we'll be defining some variables that we will use in the project.\n",
    "A lot of programming is just about knowing what information to store, and where\n",
    "to store it. For example, some very important information to store is the position\n",
    "how many seconds we should count.\n",
    "\n",
    "In this project we have three variables: *countdown*, *number_colour* and\n",
    "*countdownMessage*. The names are pretty self-explanatory. *countdown* is how\n",
    "many seconds the clock should count down for, *number_colour* is the colour\n",
    "of the numbers on the clock (right now it's black, so you should probably change it!)\n",
    "and *countdownMessage* is the message that should be shown when the clock has\n",
    "finished counting down.\n",
    "\n",
    "You should change these variables to what you think is appropriate!\n"
   ]
  },
  {
   "cell_type": "code",
   "execution_count": 4,
   "metadata": {
    "collapsed": true
   },
   "outputs": [],
   "source": [
    "#### 1.3 Set up the variables\n",
    "countdown = 10\n",
    "number_colour = [0, 0, 0]\n",
    "countdownMessage = \"\""
   ]
  },
  {
   "cell_type": "markdown",
   "metadata": {},
   "source": [
    "---\n",
    "#### (Sec. 3.1) Create a *for*-loop\n",
    "\n",
    "We're going to skip Section 2 for now. In this section (Sec. 3) we'll create the\n",
    "count down code.\n",
    "\n",
    "In order to do this, we'll use a *for*-loop. As you heard before, a for-loop can\n",
    "be used for counting things (which is exactly what we want to do!). The following\n",
    "code counts from 10 to 20, in steps of 2"
   ]
  },
  {
   "cell_type": "code",
   "execution_count": 3,
   "metadata": {},
   "outputs": [
    {
     "name": "stdout",
     "output_type": "stream",
     "text": [
      "10\n",
      "12\n",
      "14\n",
      "16\n",
      "18\n"
     ]
    }
   ],
   "source": [
    "number1 = 10\n",
    "number2 = 20\n",
    "step = 2\n",
    "\n",
    "for number in range(number1, number2, step):\n",
    "    print(number)"
   ]
  },
  {
   "cell_type": "markdown",
   "metadata": {},
   "source": [
    "Now, in our case, we want to create a for-loop that counts *down* (rather than\n",
    "up) from the number stored in the *countdown* variable (see Sec. 1.3) to 0.\n",
    "Using the information I just gave you above, see if you figure out how to\n",
    "do that.\n"
   ]
  },
  {
   "cell_type": "code",
   "execution_count": 5,
   "metadata": {
    "collapsed": true
   },
   "outputs": [],
   "source": [
    "#### 3.1 Create a for-loop\n"
   ]
  },
  {
   "cell_type": "markdown",
   "metadata": {},
   "source": [
    "---\n",
    "\n",
    "#### (Sec. 3.2) Draw the countdown number\n",
    "\n",
    "Now that you have created a for-loop, you want to write code inside of it. Remember\n",
    "that to write code *inside* of a for-loop, you should press the *Tab* button on your\n",
    "keyboard to *indent* the text. Like this:\n",
    "\n",
    "```python\n",
    "for ....\n",
    "\n",
    "  # [Here's some indented code]\n",
    "```\n",
    "\n",
    "*Note: Just to be clear, this also applies to other types of statements like\n",
    "if-statements, while-loops, and so on.*\n",
    "\n",
    "In this part of the code, you want to draw the number that the clock is currently\n",
    "on. Since you are coding in a loop, you have to remember that this code will run *multiple*\n",
    "times. So the first time it runs the code might draw the number 99, and the next time\n",
    "it'll draw 98, and so on. So in-between all the times you draw the number, you have to\n",
    "remember to *clear the screen* (otherwise all the numbers will be drawn on top of\n",
    "each other.)\n",
    "\n",
    "To find out how to clear the screen, and to draw the numbers, check the *Function Reference*.\n",
    "You'll have to read through the different functions, and see which ones would let\n",
    "you do these things."
   ]
  },
  {
   "cell_type": "code",
   "execution_count": 6,
   "metadata": {
    "collapsed": true
   },
   "outputs": [],
   "source": [
    "#### 3.2 Draw the countdown number\n"
   ]
  },
  {
   "cell_type": "markdown",
   "metadata": {},
   "source": [
    "---\n",
    "#### (Sec 3.3) Wait a second\n",
    "\n",
    "It wouldn't be much of a clock if it didn't actually count *seconds*! Check the\n",
    "function reference again, and look for a function that let you halt the program\n",
    "for a certain amount of time.\n",
    "\n",
    "After you've completed this, you should be able to run the code! Try it and\n",
    "see if it counts down properly. If it doesn't, there's probably an error\n",
    "somewhere."
   ]
  },
  {
   "cell_type": "code",
   "execution_count": 8,
   "metadata": {
    "collapsed": true
   },
   "outputs": [],
   "source": [
    "#### 3.3 Wait a second\n"
   ]
  },
  {
   "cell_type": "markdown",
   "metadata": {},
   "source": [
    "---\n",
    "#### (Sec. 2.1) Create a *while*-loop\n",
    "\n",
    "In this part of the code we're going to skip back to section 2 and write some code that lets the user choose a number between 0 and 99, to count down from. To do this, we'll have to use a *while*-loop.\n",
    "\n",
    "As you might remember, a while-loop is similar to a for-loop, as it repeats the same code several times. The difference is that a while-loop will repeat again-and-again until *you tell it to stop*.\n",
    "\n",
    "At the beginning of this document the output of the first cell there is the the example solution. See how pressing the middle-button/or pressing enter lets the user choose which number to count down from.\n",
    "\n",
    "It might seem complicated, but this means that we want the while-loop to end when the user presses the middle button (after the while-loop ends, the code will move on to the stuff we wrote in Sec. 3 earlier).\n",
    "\n",
    "So to complete this section of the code, write the following into (Sec. 2.1).\n",
    "\n",
    "```python\n",
    "selecting = True\n",
    "\n",
    "while selecting:\n",
    "    #rest of code inside ...\n",
    "```\n",
    "\n",
    "Later on, to make the program leave the *while*-loop, we would set the variable *selecting* to *False*, like this:\n",
    "\n",
    "      # Somewhere inside the while-loop\n",
    "      selecting = False"
   ]
  },
  {
   "cell_type": "code",
   "execution_count": null,
   "metadata": {
    "collapsed": true
   },
   "outputs": [],
   "source": [
    "#### 2.1 Create a while-loop\n",
    "\n"
   ]
  },
  {
   "cell_type": "markdown",
   "metadata": {},
   "source": [
    "---\n",
    "\n",
    "#### (Sec. 2.2) Let the user choose the countdown time\n",
    "\n",
    "Inside the while-loop, you should write the following:"
   ]
  },
  {
   "cell_type": "code",
   "execution_count": 9,
   "metadata": {},
   "outputs": [
    {
     "ename": "IndentationError",
     "evalue": "expected an indented block (<ipython-input-9-21a0f1b64cbb>, line 7)",
     "output_type": "error",
     "traceback": [
      "\u001b[1;36m  File \u001b[1;32m\"<ipython-input-9-21a0f1b64cbb>\"\u001b[1;36m, line \u001b[1;32m7\u001b[0m\n\u001b[1;33m    elif event.direction == \"down\":\u001b[0m\n\u001b[1;37m       ^\u001b[0m\n\u001b[1;31mIndentationError\u001b[0m\u001b[1;31m:\u001b[0m expected an indented block\n"
     ]
    }
   ],
   "source": [
    "#### 2.2 Let the user choose the countdown time\n",
    "for event in sense.stick.get_events():\n",
    "    if event.action == \"pressed\":\n",
    "        if event.direction == \"up\":\n",
    "            # Fill in with your own code\n",
    "\n",
    "        elif event.direction == \"down\":\n",
    "            # Fill in with your own code\n",
    "\n",
    "        elif event.direction == \"middle\":\n",
    "            # Fill in with your own code"
   ]
  },
  {
   "cell_type": "code",
   "execution_count": null,
   "metadata": {
    "collapsed": true
   },
   "outputs": [],
   "source": [
    "#### Bonus: Don't let the number go under 0 or over 99\n"
   ]
  },
  {
   "cell_type": "markdown",
   "metadata": {},
   "source": [
    "This code will check if the user has pressed either the *up*, *down* or the\n",
    "*middle* button on the joystick. Never mind the complicated structure, try to look\n",
    "at the code and figure out how to use it.\n",
    "\n",
    "Inside the code you find the comments *# Fill in with your own code*. Replace\n",
    "these with the code that should be in there. Remember what should happen when\n",
    "the user presses up, down or middle"
   ]
  },
  {
   "cell_type": "markdown",
   "metadata": {},
   "source": [
    "---\n",
    "\n",
    "#### (Sec. 2.3) Draw the current countdown time\n",
    "\n",
    "This is pretty much the same as (Sec. 3.2). Draw the countdown number that the user\n",
    "is currently on.\n"
   ]
  },
  {
   "cell_type": "code",
   "execution_count": null,
   "metadata": {
    "collapsed": true
   },
   "outputs": [],
   "source": [
    "#### 2.3 Draw the current countdown time"
   ]
  },
  {
   "cell_type": "markdown",
   "metadata": {},
   "source": [
    "---\n",
    "#### (Sec. 4) Clock has finished\n",
    "\n",
    "This is the very last part of the code. Here you should display a message to the\n",
    "user that the clock has run out. Remember that the message is stored in\n",
    "the *countdownMessage* variable in (Sec. 1.3).\n",
    "\n",
    "See the *Function Reference* to find out how to display a message to the user.\n"
   ]
  },
  {
   "cell_type": "code",
   "execution_count": 10,
   "metadata": {
    "collapsed": true
   },
   "outputs": [],
   "source": [
    "#### 4. Clock has finished #####################################################\n"
   ]
  },
  {
   "cell_type": "markdown",
   "metadata": {},
   "source": [
    "---\n",
    "\n",
    "## 5. Your final programme\n",
    "\n",
    "From completing the coding sections above you now have all the pieces for your glitter programme.\n",
    "\n",
    "Add the lines of code you have written (copy and paste) into the relevant sections:"
   ]
  },
  {
   "cell_type": "code",
   "execution_count": null,
   "metadata": {
    "collapsed": true
   },
   "outputs": [],
   "source": [
    "###### 1. Initialising the project #############################################\n",
    "\n",
    "#### 1.1 Import libraries\n",
    "\n",
    "from sense_hat import SenseHat\n",
    "from senselib import *\n",
    "import random\n",
    "\n",
    "#### 1.2 Initialisation\n",
    "\n",
    "sense = SenseHat() # This will be used to control the the SenseHat.\n",
    "initialise(sense) # Initialises the senselib library, that provides us with some useful functions\n",
    "sense.clear() # Clears all pixels on the screen.\n",
    "\n",
    "#### 1.3 Set up the variables\n",
    "\n",
    "countdown = 10\n",
    "number_colour = [0, 0, 0]\n",
    "countdownMessage = \"\"\n",
    "\n",
    "###### 2. Set the countdown clock ##############################################\n",
    "\n",
    "#### 2.1 Create a while-loop\n",
    "\n",
    "#### 2.2 Let the user choose the countdown time\n",
    "\n",
    "\n",
    "\n",
    "#### Bonus: Don't let the number go under 0 or over 99\n",
    "\n",
    "\n",
    "\n",
    "#### 2.3 Draw the current countdown time\n",
    "\n",
    "\n",
    "\n",
    "###### 3. Count down the time ##################################################\n",
    "\n",
    "#### 3.1 Create a for-loop\n",
    "\n",
    "\n",
    "\n",
    "#### 3.2 Draw the countdown number\n",
    "\n",
    "\n",
    "\n",
    "#### 3.3 Wait a second\n",
    "\n",
    "\n",
    "\n",
    "#### 4. Clock has finished #####################################################\n"
   ]
  },
  {
   "cell_type": "markdown",
   "metadata": {},
   "source": [
    "---\n",
    "#### Finished!\n",
    "\n",
    "If it's all done, correctly, the game should now work! Don't worry if it doesn't,\n",
    "things often go wrong in programming. Errors in code are usually called *bugs*. If\n",
    "you have a bug in your code, you'll have to *debug* it!\n",
    "\n",
    "If it works, congratulations! You can either move on to another project or try\n",
    "to come up with new things to add to the current project. Use your creativity!\n",
    "You can discuss any ideas you have with a supervisor.\n",
    "\n",
    "---\n",
    "**Copyright (c)** 2019 hackingEducation All Rights Reserved.\n"
   ]
  },
  {
   "cell_type": "code",
   "execution_count": null,
   "metadata": {
    "collapsed": true
   },
   "outputs": [],
   "source": []
  }
 ],
 "metadata": {
  "kernelspec": {
   "display_name": "Python 3",
   "language": "python",
   "name": "python3"
  },
  "language_info": {
   "codemirror_mode": {
    "name": "ipython",
    "version": 3
   },
   "file_extension": ".py",
   "mimetype": "text/x-python",
   "name": "python",
   "nbconvert_exporter": "python",
   "pygments_lexer": "ipython3",
   "version": "3.6.3"
  }
 },
 "nbformat": 4,
 "nbformat_minor": 2
}
