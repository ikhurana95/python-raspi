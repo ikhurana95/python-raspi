{
  "nbformat": 4,
  "nbformat_minor": 0,
  "metadata": {
    "colab": {
      "name": "hackingEducation-Session-1-Introduction-to-Python-for-Python-version-3.6.ipynb",
      "version": "0.3.2",
      "provenance": [],
      "toc_visible": true
    },
    "kernelspec": {
      "display_name": "Python 3",
      "language": "python",
      "name": "python3"
    }
  },
  "cells": [
    {
      "cell_type": "markdown",
      "metadata": {
        "id": "fz59urx1BFB5",
        "colab_type": "text"
      },
      "source": [
        "# hackingEducation - Session 1\n",
        "# Introduction to Python"
      ]
    },
    {
      "cell_type": "markdown",
      "metadata": {
        "id": "fI9mcqhNBFB_",
        "colab_type": "text"
      },
      "source": [
        "## 1. Jupyter Notebooks\n",
        "\n",
        "Hello and welcome!\n",
        "\n",
        "This page you're currently on is called a _Jupyter Notebook_. It's an _interactive Python_ environment, which allows us to experiment with and learn Python in an _interactive_ way. In general _Jupyter_ is what we'd call an _Integrated development environment_ (IDE), a program that enables us to write and run Python programs. There are many different IDEs for any single programming language, with different kinds of advantages for each.\n",
        "\n",
        "Jupyter is quite different other IDEs because it allows us to both write text and code, in the same document. The basic building block of a Jupyter notebook is the _cell_. Code is written in _code cells_ and text is written in _markdown cells_. This, for example, is a text cell. If you try double clicking on the cell, the cell should change into _edit mode_, and you'll be able to edit this text! To go back to displaying the cell normally, press _SHIFT+ENTER_.\n",
        "\n",
        "We will be using Jupyter notebooks to introduce you to simple Python functions that you'll then experiment with in this notebook. Eventually we'll be moving on to another IDE called IDLE."
      ]
    },
    {
      "cell_type": "markdown",
      "metadata": {
        "id": "zFrjXfKhBFCE",
        "colab_type": "text"
      },
      "source": [
        "## 2. The Print Function and 'Hello World'\n",
        "\n",
        "The first thing most people learn is the _print_ function. This function allows the user to tell the computer to \n",
        "display on the screen whatever is inside the print function. \n",
        "\n",
        "This can, for example, be a string of text, a number or even a _variable_ (more on variables later).\n",
        "\n",
        "#### To run a cell press SHIFT-ENTER\n",
        "\n",
        "Click on the code cell below, and press <span style=\"color:green\">SHIFT+ENTER</span>, and you should see that the code in the cell produces some text below it. We call this the code's _output_."
      ]
    },
    {
      "cell_type": "code",
      "metadata": {
        "id": "xq2T5bb_BFCJ",
        "colab_type": "code",
        "outputId": "b9a494c8-c9c5-44c2-ac3a-7336f750715f",
        "colab": {
          "base_uri": "https://localhost:8080/",
          "height": 51
        }
      },
      "source": [
        "print(\"Hello world\") # printing hello world\n",
        "\n",
        "print(5) # printing the integer 5"
      ],
      "execution_count": 0,
      "outputs": [
        {
          "output_type": "stream",
          "text": [
            "Hello world\n",
            "5\n"
          ],
          "name": "stdout"
        }
      ]
    },
    {
      "cell_type": "markdown",
      "metadata": {
        "id": "50MtsSUABFCn",
        "colab_type": "text"
      },
      "source": [
        "The bit of writing after the <span style=\"color:green\">#</span> is known as a _comment_. A comment is a piece of non-code text that we put alongside code to help explain it. The purpose of a comment is therefore to explain what the code does in simple English so that a programmer can go back and understand each line of code.\n",
        "\n",
        "Commenting is good programming practice!"
      ]
    },
    {
      "cell_type": "markdown",
      "metadata": {
        "id": "a5EmQ8BIBFCr",
        "colab_type": "text"
      },
      "source": [
        "<span style=\"color:green\">_Execises_</span>\n",
        "\n",
        " - Try running the cell again, but change the text from \"Hello World\" to something else.\n",
        " - Try running it with the text changed to “5+3”, what do you get?\n",
        " - Try running it with the text changed to 5+3, without the quotation marks, what do you get?"
      ]
    },
    {
      "cell_type": "markdown",
      "metadata": {
        "id": "gBtpYNChBFCv",
        "colab_type": "text"
      },
      "source": [
        "#### Creating Jupyter notebook cells\n",
        "\n",
        "Now, try create two new cells in this notebook. One text cell, and one code cell. You can do this by clicking on _Insert_ in the menu above, and then click on _Insert Cell Below_. After this you can change the type of the cell using the dropdown menu in the toolbar above.\n",
        "\n",
        "Alternativey, you can create new cells by first pressing ESC on the keyboard, followed by B. Then, to make it a code cell you press Y, or M to make it a text cell. After you've done this, press ENTER to start being able to type in the cell.\n",
        "\n",
        "Write some text in your new markdown cell. You can create headlines by using the character _#_ in the first position on a line. Try writing some print statements in your code cell.\n",
        "\n",
        "Remember, to run the cells, press SHIFT+ENTER."
      ]
    },
    {
      "cell_type": "markdown",
      "metadata": {
        "id": "peP7W3zIBFCz",
        "colab_type": "text"
      },
      "source": [
        "## 3. Simple arithmetic in Python\n",
        "\n",
        "Next thing we'll do is try out some simple mathematical operations in Python. All the major math operators are present in Python, as you can see in the code cell below.\n",
        "\n",
        "Using Python we can add, subtract, multiply or divide numbers. "
      ]
    },
    {
      "cell_type": "code",
      "metadata": {
        "id": "bG-zBM9GBFC5",
        "colab_type": "code",
        "outputId": "25ffd666-ad31-4002-d101-441bf41e9109",
        "colab": {}
      },
      "source": [
        "print(3+5)\n",
        "\n",
        "print(2-7)\n",
        "\n",
        "print(2*5) \n",
        "\n",
        "print(4/2)"
      ],
      "execution_count": 0,
      "outputs": [
        {
          "output_type": "stream",
          "text": [
            "8\n",
            "-5\n",
            "10\n",
            "2.0\n"
          ],
          "name": "stdout"
        }
      ]
    },
    {
      "cell_type": "markdown",
      "metadata": {
        "id": "F9dFN5h2BFDC",
        "colab_type": "text"
      },
      "source": [
        "You can do operations on really large numbers"
      ]
    },
    {
      "cell_type": "code",
      "metadata": {
        "id": "rsxc-BpNBFDF",
        "colab_type": "code",
        "outputId": "4179e54b-8026-4616-e5cc-3464aa2bc9b2",
        "colab": {}
      },
      "source": [
        "print(93959293 + 222827432)\n",
        "print(5827362 * 602123)\n",
        "print(1000000000 - 1)\n",
        "print(69372/6823)"
      ],
      "execution_count": 0,
      "outputs": [
        {
          "output_type": "stream",
          "text": [
            "316786725\n",
            "3508788689526\n",
            "999999999\n",
            "10.16737505496116\n"
          ],
          "name": "stdout"
        }
      ]
    },
    {
      "cell_type": "markdown",
      "metadata": {
        "id": "5ZhhHrzyBFDQ",
        "colab_type": "text"
      },
      "source": [
        "and you can do operations on several numbers."
      ]
    },
    {
      "cell_type": "markdown",
      "metadata": {
        "id": "22CmAqhIBFDS",
        "colab_type": "text"
      },
      "source": [
        "You can also use numbers with decimal places in Python. We call these numbers _floating point numbers_ (or _floats_, for short)."
      ]
    },
    {
      "cell_type": "code",
      "metadata": {
        "id": "DmaAgJkaBFDV",
        "colab_type": "code",
        "outputId": "0e550562-d7ae-44b3-b489-e96e9f06a051",
        "colab": {}
      },
      "source": [
        "print(3.1415926536)"
      ],
      "execution_count": 0,
      "outputs": [
        {
          "output_type": "stream",
          "text": [
            "3.1415926536\n"
          ],
          "name": "stdout"
        }
      ]
    },
    {
      "cell_type": "code",
      "metadata": {
        "id": "p2Rrzv30BFDf",
        "colab_type": "code",
        "outputId": "17dab51c-0b0e-466f-d1b8-416b67acfbdb",
        "colab": {}
      },
      "source": [
        "print(20.5 + 26 - 82.612 * 51 / 16 - 23)"
      ],
      "execution_count": 0,
      "outputs": [
        {
          "output_type": "stream",
          "text": [
            "-239.82574999999997\n"
          ],
          "name": "stdout"
        }
      ]
    },
    {
      "cell_type": "markdown",
      "metadata": {
        "id": "UKXLzIOnBFDu",
        "colab_type": "text"
      },
      "source": [
        "You've learned about the order of operations in your math classes, but in the above code it's still quite hard to see what number operations go first and last. In order to construct more complex mathematical expressions, we can use the brackets \"(\" and \")\"."
      ]
    },
    {
      "cell_type": "code",
      "metadata": {
        "id": "UP9Ae3WcBFDx",
        "colab_type": "code",
        "outputId": "d6ba9b31-4719-4829-bab9-3a6954b570b7",
        "colab": {}
      },
      "source": [
        "print( (2.5+3.1) * 5 )\n",
        "print( 6 + ((100.42 - 1)*42)/32.53 )\n",
        "print( (2.0001 * (23 - 3) / (12 * 23.542) - 32)*62.123 )"
      ],
      "execution_count": 0,
      "outputs": [
        {
          "output_type": "stream",
          "text": [
            "28.0\n",
            "134.36274208422995\n",
            "-1979.1395077521024\n"
          ],
          "name": "stdout"
        }
      ]
    },
    {
      "cell_type": "markdown",
      "metadata": {
        "id": "YlrBKhsVBFD7",
        "colab_type": "text"
      },
      "source": [
        "Be wary of correctly placing your brackets! Many errors in your code will come from mismatching number of opening brackets \"(\" and closing brackets \")\"."
      ]
    },
    {
      "cell_type": "markdown",
      "metadata": {
        "id": "Wc41vw3pBFD9",
        "colab_type": "text"
      },
      "source": [
        "#### Floating point numbers vs. integers\n",
        "\n",
        "In Python we have to make a distinction between _integers_ and _floating point numbers_. The former are just _whole numbers_, while the latter are _decimals_. This distinctions is quite important as python will store the numbers either as 'integers' -whole numbers or 'floats' - decimal point numbers. \n",
        "Look at the code cell below, containing the number 3, first expressed as a 'int' version and secondly expresed as a 'float' version. Run the two cells below to verfiy what 'type' each is!"
      ]
    },
    {
      "cell_type": "code",
      "metadata": {
        "id": "ed1gAeEhBFD_",
        "colab_type": "code",
        "outputId": "114db4a8-4a61-4fd9-806c-34210c68f462",
        "colab": {}
      },
      "source": [
        "print (type (3))"
      ],
      "execution_count": 0,
      "outputs": [
        {
          "output_type": "stream",
          "text": [
            "<class 'int'>\n"
          ],
          "name": "stdout"
        }
      ]
    },
    {
      "cell_type": "code",
      "metadata": {
        "id": "WDrdmt8YBFEJ",
        "colab_type": "code",
        "outputId": "5765bcff-833c-45bb-8e86-4d9bdbee7634",
        "colab": {}
      },
      "source": [
        "print (type (3.0))"
      ],
      "execution_count": 0,
      "outputs": [
        {
          "output_type": "stream",
          "text": [
            "<class 'float'>\n"
          ],
          "name": "stdout"
        }
      ]
    },
    {
      "cell_type": "markdown",
      "metadata": {
        "id": "l-HFlwnaBFES",
        "colab_type": "text"
      },
      "source": [
        "#### _Strings_\n",
        "\n",
        "Earlier you saw that you can also use the _print_ statement to display bits of text. These bits of text are referred to as _strings_, because they're _strings of characters_. You can actually use the \"+\"-symbol to add strings together."
      ]
    },
    {
      "cell_type": "code",
      "metadata": {
        "id": "9xYZyNddBFEV",
        "colab_type": "code",
        "outputId": "81595df5-0aee-442c-b5e0-b1c15a3af5e0",
        "colab": {}
      },
      "source": [
        "print (\"Hello\" + \" world\") # Strings of text in python are written using \"quotation marks\"."
      ],
      "execution_count": 0,
      "outputs": [
        {
          "output_type": "stream",
          "text": [
            "Hello world\n"
          ],
          "name": "stdout"
        }
      ]
    },
    {
      "cell_type": "markdown",
      "metadata": {
        "id": "thVVU5vhBFEj",
        "colab_type": "text"
      },
      "source": [
        "What if you want to add a string and a number together? We can do this using the _str_ function, which converts a number into a _string_."
      ]
    },
    {
      "cell_type": "code",
      "metadata": {
        "id": "OhoFl8cOBFEm",
        "colab_type": "code",
        "outputId": "f5f962c4-4526-419a-925c-f7ddfead3c6e",
        "colab": {}
      },
      "source": [
        "print (\"Five plus three multiplied by twenty-four is equal to \" + str( (5 + 3)*24 ))"
      ],
      "execution_count": 0,
      "outputs": [
        {
          "output_type": "stream",
          "text": [
            "Five plus three multiplied by twenty-four is equal to 192\n"
          ],
          "name": "stdout"
        }
      ]
    },
    {
      "cell_type": "markdown",
      "metadata": {
        "id": "DYfAqSP-BFE7",
        "colab_type": "text"
      },
      "source": [
        "In all the above examples, try changing the numbers, doing more complicated calculations or move on if you feel comfortable with these concepts. You can try out your code by either editing the code in the above cells, or by creating new code cells."
      ]
    },
    {
      "cell_type": "markdown",
      "metadata": {
        "id": "8wuTObzaBFE-",
        "colab_type": "text"
      },
      "source": [
        "## 4. Variables\n",
        "Python allows us to store information in _variables_.  We can use the assignment operator (the _equal-to_ sign '=') to assign a value to a variable.\n",
        "\n",
        "There are three components to variable assignment.\n",
        " - First we need to decide on the name of our variable, like my_variable.\n",
        " - Second, we set the variable name equal to something using the _equal-to_ sign '='.\n",
        " - Third, we write the value that the variable should be equal to.\n",
        " \n",
        "Like this:\n",
        "\n",
        "     my_variable = 123\n",
        "    \n",
        "We can also store strings in a variable:\n",
        " \n",
        "     my_variable = \"Hello!\"\n",
        "\n",
        "Note that the variable name must be written as _one continuous set of characters_ without spaces. So, for example, _my variable_ would not be a valid name for a variable.\n",
        "\n",
        "The code below shows how easy it is to define variables, and then use them with the print statement."
      ]
    },
    {
      "cell_type": "code",
      "metadata": {
        "scrolled": true,
        "id": "O9ueVtsNBFFB",
        "colab_type": "code",
        "outputId": "a201df79-b39f-47dd-c63a-e5c31ae963fe",
        "colab": {}
      },
      "source": [
        "a_number = 4 \n",
        "some_text = \"The number is: \"\n",
        "\n",
        "print(some_text + str(a_number))"
      ],
      "execution_count": 0,
      "outputs": [
        {
          "output_type": "stream",
          "text": [
            "The number is: 4\n"
          ],
          "name": "stdout"
        }
      ]
    },
    {
      "cell_type": "markdown",
      "metadata": {
        "id": "Vv_duK3HBFFJ",
        "colab_type": "text"
      },
      "source": [
        "#### A basic program \n",
        "\n",
        "Variables are quite useful, as they allow us to remember numbers (or other types of data, like _strings_) in terms of more memorable variable names. We can use these variables in our programs to compute things. Below is an example of a basic program that calculates how many minutes there are in a week."
      ]
    },
    {
      "cell_type": "code",
      "metadata": {
        "id": "afwOdWUaBFFM",
        "colab_type": "code",
        "outputId": "cbd3a3f7-a98e-4168-c345-94f984006a73",
        "colab": {}
      },
      "source": [
        "minutes_in_an_hour = 60 # storing the number of minutes in an hour into a variable\n",
        "hours_in_a_day = 24 # Storing hours in a day into a variable\n",
        "days_in_a_week = 7\n",
        "\n",
        "# calculate the minutes in the week\n",
        "\n",
        "minutes_in_a_week = minutes_in_an_hour*hours_in_a_day*days_in_a_week\n",
        "\n",
        "print(\"There are \" + str(minutes_in_a_week) + \" minutes in a week.\")"
      ],
      "execution_count": 0,
      "outputs": [
        {
          "output_type": "stream",
          "text": [
            "There are 10080 minutes in a week.\n"
          ],
          "name": "stdout"
        }
      ]
    },
    {
      "cell_type": "markdown",
      "metadata": {
        "id": "7lP8piIoBFFT",
        "colab_type": "text"
      },
      "source": [
        "This may look like a trivially easy program to write, and it has a lot of tedious writing to do a basic calculation, but the point of the code was to demonstrate how variables work. In later tasks you find this information useful. "
      ]
    },
    {
      "cell_type": "markdown",
      "metadata": {
        "id": "nVZ_CytVBFFW",
        "colab_type": "text"
      },
      "source": [
        "#### Storing user input into variables\n",
        "\n",
        "Most useful programs have some way of receiving information from its _user_ (the person using the program). This is what we call when a program is _interactive_. It simply means that a user can input some information into the computer, and the computer can answer something back in response to that input.\n",
        "\n",
        "An example of a way that you interact with your computer is the mouse you're probably using to scroll through this document right now. When you move your mouse, it sends messages to the computer telling the cursor on the screen to move. Another examples are the contacts in your phone: you enter a number and save it as a name (variable). Then each time you use that variable your phone uses the value of that variable, the phone number. All of these interactions are made possible by lines of code that someone has written!\n",
        "\n",
        "The function in Python is _input_ for storing strings and for other types e.g using 'int' before . These functions enables us to ask the user to input values for the program.\n",
        "\n",
        "See the code below and the comments to get a better idea of how it works. "
      ]
    },
    {
      "cell_type": "code",
      "metadata": {
        "id": "U3ZI7DaMBFFX",
        "colab_type": "code",
        "outputId": "3677a325-93ca-4e6c-c901-d096da381267",
        "colab": {}
      },
      "source": [
        "my_name = input (\"Enter your name: \") # This function is used to store strings\n",
        "\n",
        "my_age = int (input(\"How old are you? \")) # This function is used to store numbers i.e integers 'int' or floats 'float'\n",
        "print (type(my_age)) #just verifiying that 'my_age' is stored as an integer \n",
        "print(my_name + \" is \" + str(my_age) + \" years old.\") # Prints *your name* is *your age* old. "
      ],
      "execution_count": 0,
      "outputs": [
        {
          "output_type": "stream",
          "text": [
            "Enter your name: Harjeet\n",
            "How old are you? 20\n",
            "<class 'int'>\n",
            "Harjeet is 20 years old.\n"
          ],
          "name": "stdout"
        }
      ]
    },
    {
      "cell_type": "markdown",
      "metadata": {
        "id": "SPJyv-KrBFFg",
        "colab_type": "text"
      },
      "source": [
        "## We see that *raw_input* is used to get string inputs from the user, and _input_ is used to get numbers from the user."
      ]
    },
    {
      "cell_type": "markdown",
      "metadata": {
        "id": "WYP60B3RBFFi",
        "colab_type": "text"
      },
      "source": [
        "<span style=\"color:green\">_Execise_</span>\n",
        "\n",
        " - Write a simple calculator, that will add together three numbers that the user inputs."
      ]
    },
    {
      "cell_type": "code",
      "metadata": {
        "id": "40dnHnmkBFFk",
        "colab_type": "code",
        "colab": {}
      },
      "source": [
        ""
      ],
      "execution_count": 0,
      "outputs": []
    },
    {
      "cell_type": "markdown",
      "metadata": {
        "id": "_EsNIC3XBFFq",
        "colab_type": "text"
      },
      "source": [
        "### 5. If and Else statements\n",
        "\n",
        "The _if_ statement allows us to make a program that reacts in different ways, under different conditions. Think of it as a way to make a program _responsive_ to a user's input.\n",
        "\n",
        "Look at the code below. The first thing it does is ask the user's age, and after that it uses that information to tell the user whether he/she is old enough to drive. By reading the comments try to understand how the code works. "
      ]
    },
    {
      "cell_type": "code",
      "metadata": {
        "id": "0D9f38gSBFFs",
        "colab_type": "code",
        "outputId": "9a70e172-d347-4c50-ffd6-cfdb63257b8b",
        "colab": {}
      },
      "source": [
        "### Are you old enough to drive? ###\n",
        "\n",
        "age = int (input(\"How old are you? \"))# Ask for user input\n",
        "driving_age_uk = 17 # define driving age in the UK by setting the variable driving_age_uk to 17\n",
        "\n",
        "if age >= driving_age_uk: # This statement says if age is greater than or equal to driving_age_uk, execute the print statement\n",
        "    print (\"You can drive!\")\n",
        "else: # If the condition in the if statement is not met, the code prints something else. \n",
        "    print (\"You're not old enough to drive.\") # Code to be executed when the condition in the if statement is not met.\n"
      ],
      "execution_count": 0,
      "outputs": [
        {
          "output_type": "stream",
          "text": [
            "How old are you? 20\n",
            "You can drive!\n"
          ],
          "name": "stdout"
        }
      ]
    },
    {
      "cell_type": "markdown",
      "metadata": {
        "id": "5z_6zub2BFFz",
        "colab_type": "text"
      },
      "source": [
        "An _if_-statement is basically used to test the value of a variable. If the variable passes the test, then the code _inside_ the _if_-statement is run by the computer. Here's an example of a simple test we can do with an _if_-statement."
      ]
    },
    {
      "cell_type": "code",
      "metadata": {
        "id": "3Slm0DLyBFF2",
        "colab_type": "code",
        "outputId": "c1e9c447-76b6-4d49-f7d6-200b51ed8ffa",
        "colab": {}
      },
      "source": [
        "my_number = float(input(\"What is your number? \")) \n",
        "\n",
        "if my_number < 20:\n",
        "    print(\"The number is less than 20.\")\n",
        "    \n",
        "if my_number > 5:\n",
        "    print(\"The number is larger than 5.\")\n",
        "    \n",
        "if my_number == 10:\n",
        "    print(\"The number is equal to 10.\")\n",
        "else:\n",
        "    print(\"The number is not equal to 10.\")"
      ],
      "execution_count": 0,
      "outputs": [
        {
          "output_type": "stream",
          "text": [
            "What is your number? 10\n",
            "The number is less than 20.\n",
            "The number is larger than 5.\n",
            "The number is equal to 10.\n"
          ],
          "name": "stdout"
        }
      ]
    },
    {
      "cell_type": "markdown",
      "metadata": {
        "id": "e48JAoCZBFGC",
        "colab_type": "text"
      },
      "source": [
        "In the examples above, we were able to compare our variables by _comparing them_ using the >=, <, > and == symbols. Here's a summary of some important _comparison operators_ in Python:\n",
        "\n",
        " - _a > b_ a is greater b.\n",
        " - _a < b_ a is less than b.\n",
        " - _a >= b_ a is greater than or equal to b.\n",
        " - _a <= b_ a is less than or equal to b.\n",
        " - _a == b_ a is equal to b. We use double equals because single equals is used to assign values to variables.\n",
        " - _a != b_ a is not equal to b. We use double equals because single equals is used to assign values to variables.\n",
        " \n",
        "We can test these comparison operators using print statements."
      ]
    },
    {
      "cell_type": "code",
      "metadata": {
        "id": "60aiCFVnBFGE",
        "colab_type": "code",
        "outputId": "de5161ce-7bc2-4dd5-89fd-b88c4cb7db11",
        "colab": {}
      },
      "source": [
        "print(1 > 1) # 1 is never bigger than 1\n",
        "print(1 >= 2) # but 1 is bigger than or equal to 1\n",
        "\n",
        "print(2 < 3) # 2 is less than 3\n",
        "\n",
        "print(1 == 2) # 1 is not equal to 2\n",
        "print(3 != 4) # 3 is not equal to 4"
      ],
      "execution_count": 0,
      "outputs": [
        {
          "output_type": "stream",
          "text": [
            "False\n",
            "False\n",
            "True\n",
            "False\n",
            "True\n"
          ],
          "name": "stdout"
        }
      ]
    },
    {
      "cell_type": "markdown",
      "metadata": {
        "id": "rAt_Pzn1BFGP",
        "colab_type": "text"
      },
      "source": [
        "What is it that these print statements show? They show a value of _True_ or _False_ depending on whether the comparison made is a true or a false _statement_. For example, _10 > 21_ is a _false_ statement. _True_ or _False_ are known as _boolean_ values. We'll go into more detail about them in another session, but for now think of them as simply a way to state and store the truth or falsity of something.\n",
        "\n",
        "When we run code that has an expression like _1 == 2_, Python will convert it into a _True_ or _False_ value. This is what happens in the above print statements, the values that we see that are being shown are just the converted _boolean_ values!\n",
        "\n",
        "How does this relate to _if_-statements? Look at a generic example of one:\n",
        "\n",
        "    if [some expression]:\n",
        "        print \"The code inside the if-statement ran!\"\n",
        "        \n",
        "The print statement inside the clause will run if the _[some expression]_ bit will _evaluate_ to _True_. Don't worry if that sounds confusing. What's basically happening is that Python will run _[some expression]_, and then decide whether the expression is true or not. If the expression is true, the code inside the if-statement will run, otherwise it will skip it."
      ]
    },
    {
      "cell_type": "code",
      "metadata": {
        "id": "4k4oGhrkBFGR",
        "colab_type": "code",
        "outputId": "ec60d220-d674-4b28-b572-529fc84a44e3",
        "colab": {}
      },
      "source": [
        "if True:\n",
        "    print(\"This code will always run!\")\n",
        "    \n",
        "if False:\n",
        "    print(\"This code will never run :(\")"
      ],
      "execution_count": 0,
      "outputs": [
        {
          "output_type": "stream",
          "text": [
            "This code will always run!\n"
          ],
          "name": "stdout"
        }
      ]
    },
    {
      "cell_type": "markdown",
      "metadata": {
        "id": "L9hoHlQlBFGb",
        "colab_type": "text"
      },
      "source": [
        "What if we want to run code if the expression is false? There are a number of ways to do this. One of the ways was shown in the first two examples in this section. We can use the _else_-statement. _else_-statements are very simple, they always come after _if_-statements, and will run if the _if_-statement fails to run."
      ]
    },
    {
      "cell_type": "code",
      "metadata": {
        "id": "dDzsRMbVBFGe",
        "colab_type": "code",
        "outputId": "26cef5fe-bd8d-4c0e-aa38-4c1ac6248f5f",
        "colab": {}
      },
      "source": [
        "password = input(\"What is the password? \")\n",
        "\n",
        "if password == \"shazam\":\n",
        "    print(\"You may enter!\")\n",
        "else:\n",
        "    print(\"Wrong password!\")"
      ],
      "execution_count": 0,
      "outputs": [
        {
          "output_type": "stream",
          "text": [
            "What is the password? shazam\n",
            "You may enter!\n"
          ],
          "name": "stdout"
        }
      ]
    },
    {
      "cell_type": "markdown",
      "metadata": {
        "id": "5kobfMqdBFGq",
        "colab_type": "text"
      },
      "source": [
        "<span style=\"color:green\">_Execise_</span>\n",
        "- Now, try writing a program in IDLE that asks the user to enter a number. Your program should then tell the user whether the number is positive, negative or equal to zero."
      ]
    },
    {
      "cell_type": "markdown",
      "metadata": {
        "id": "IDfdyrxNBFGr",
        "colab_type": "text"
      },
      "source": [
        "## 6. For loops\n",
        "\n",
        "The next thing we will look at is the _for loop_. Loops are really important in programming. Often in programming we find ourselves in a situation where we have to repeat the same code several times on some number or set of data. Loops allow us to accomplish this in fewer lines of code, by _repeating_ code until the operation is complete.\n",
        "\n",
        "Look at the code below, what do you think it does? Run it and see if you can figure it out."
      ]
    },
    {
      "cell_type": "code",
      "metadata": {
        "id": "5q6gPmzwBFGt",
        "colab_type": "code",
        "outputId": "aebb8ac5-1efa-46a9-fc39-4c1f1ccabd3c",
        "colab": {}
      },
      "source": [
        "for n in range(1,10): \n",
        "    #Sets up a loop that runs the program for n equals 1 and ends at but does not include 10.\n",
        "    \n",
        "    \n",
        "    print \"The number is\", n \n",
        "    #Prints the statement \"the number is\" and then the value of n for n going from 1 to 9."
      ],
      "execution_count": 0,
      "outputs": [
        {
          "output_type": "stream",
          "text": [
            "The number is 1\n",
            "The number is 2\n",
            "The number is 3\n",
            "The number is 4\n",
            "The number is 5\n",
            "The number is 6\n",
            "The number is 7\n",
            "The number is 8\n",
            "The number is 9\n"
          ],
          "name": "stdout"
        }
      ]
    },
    {
      "cell_type": "markdown",
      "metadata": {
        "id": "OPqoYCIhBFG1",
        "colab_type": "text"
      },
      "source": [
        "<span style=\"color:green\">_Execise_</span>\n",
        "\n",
        "Write a script that does the folllowing\n",
        "\n",
        "1) Prints the numbers from 50 to 100.\n",
        "\n",
        "2) Prints the 2 times table. "
      ]
    },
    {
      "cell_type": "markdown",
      "metadata": {
        "id": "8kihIwZ2BFG1",
        "colab_type": "text"
      },
      "source": [
        "## 7. While Loop\n",
        "\n",
        "Another type of loop that we can use in Python is the _while loop_.\n",
        "\n",
        "The while loop repeats its code as long as the expression after the _while_ command evaluates to _True_. In this way it's very similar to an _if_-statement. You can think of it as a mix between an _if-statement_ and a _for-loop_.\n",
        "\n",
        "The previous explanation might be a bit complicated to follow, but if you look at the code below you can see that it's quite intuitive."
      ]
    },
    {
      "cell_type": "code",
      "metadata": {
        "id": "hB3W_7wPBFG2",
        "colab_type": "code",
        "outputId": "ca9f05dd-cbdf-42b0-dc6f-1c3e631a2f3b",
        "colab": {}
      },
      "source": [
        "n = 0 # Initialising n\n",
        "while n < 10: # Starting the loop with condition that n must be less than 10\n",
        "    n = n + 1 # redefines n as n+1 \n",
        "    print(n) # print the new value of n"
      ],
      "execution_count": 0,
      "outputs": [
        {
          "output_type": "stream",
          "text": [
            "1\n",
            "2\n",
            "3\n",
            "4\n",
            "5\n",
            "6\n",
            "7\n",
            "8\n",
            "9\n",
            "10\n"
          ],
          "name": "stdout"
        }
      ]
    },
    {
      "cell_type": "markdown",
      "metadata": {
        "id": "1QH0Z3zjBFG7",
        "colab_type": "text"
      },
      "source": [
        "<span style=\"color:green\">_Execise_</span>\n",
        "\n",
        "Write code that asks the user to enter the word _\"hello\"_, and will keep asking the user to do so, until the word is inputted."
      ]
    },
    {
      "cell_type": "code",
      "metadata": {
        "id": "8_r8IHNrBFG8",
        "colab_type": "code",
        "colab": {}
      },
      "source": [
        ""
      ],
      "execution_count": 0,
      "outputs": []
    }
  ]
}