{
 "cells": [
  {
   "cell_type": "markdown",
   "metadata": {},
   "source": [
    "# Project: **Glitter**\n",
    "\n",
    "### Difficulty level: Easy\n",
    "\n",
    "---"
   ]
  },
  {
   "cell_type": "code",
   "execution_count": 27,
   "metadata": {
    "scrolled": true
   },
   "outputs": [
    {
     "data": {
      "text/html": [
       "\n",
       "        <iframe\n",
       "            width=\"700\"\n",
       "            height=\"300\"\n",
       "            src=\"https://trinket.io/embed/python/18c6c6e220?outputOnly=true&runOption=run&start=result\"\n",
       "            frameborder=\"0\"\n",
       "            allowfullscreen\n",
       "        ></iframe>\n",
       "        "
      ],
      "text/plain": [
       "<IPython.lib.display.IFrame at 0x169867b7a20>"
      ]
     },
     "execution_count": 27,
     "metadata": {},
     "output_type": "execute_result"
    }
   ],
   "source": [
    "#Remember to run each code cell as you go along (click on this code cell then press SHIFT+ENTER)\n",
    "from IPython.display import IFrame\n",
    "IFrame('https://trinket.io/embed/python/18c6c6e220?outputOnly=true&runOption=run&start=result', width=700, height=300)"
   ]
  },
  {
   "cell_type": "markdown",
   "metadata": {},
   "source": [
    "## Description\n",
    "\n",
    "In this project we will be making use of the Raspberry Pi's display panel to make some glittery lights. You'll have seen a demo of this in one of the other sessions, if you haven't ask us to show you!\n",
    "\n",
    "## Project Manual\n",
    "\n",
    "This project guide will tell you step-by-step the main things you have to do\n",
    "in order to create the glitter programme. For some of the steps, you'll have to\n",
    "use your own creativity to proceed, good luck!\n",
    "\n",
    "---\n",
    "\n"
   ]
  },
  {
   "cell_type": "markdown",
   "metadata": {},
   "source": [
    "## 1. Introducing the project\n",
    "\n",
    "You will be coding within this notebook, which means you're running this notebook on your raspberry pi. \n",
    "\n",
    "To start with we'll look at the skeleton code. \n",
    "\n",
    "This is the overall structure of the programme you are going to write: \n",
    "```python\n",
    "\n",
    "# 1.1 Import libraries\n",
    "    from sense_hat import SenseHat\n",
    "    from senseGraphics import *\n",
    "    import random\n",
    "    from senselib import *\n",
    "    import time\n",
    "\n",
    "# (1.2) Initialisation\n",
    "    sense = SenseHat() # This will be used to control the the SenseHat.\n",
    "    initialise(sense) # Initialises the senselib library, that provides us with some useful functions\n",
    "    sense.set_imu_config(False, False, True) \n",
    "    sense.clear() # Clears all pixels on the screen.\n",
    "\n",
    "## 2.0 Available colours\n",
    "    colours = [\n",
    "      \"yellow\",\"blue\", \"red\",\"pink\",\"green\",\"orange\", \"violet\",\"purple\",\"gold\"\n",
    "      ]\n",
    "## 2.1 set the colour of glitter\n",
    "\n",
    "\n",
    "    while True:\n",
    "      ## 2.2 creating an empty list that will hold the image\n",
    "\n",
    "      for i in range(64):\n",
    "\n",
    "        # 2.3 get a random shade of some colour\n",
    "\n",
    "        # 2.4 add that to your list\n",
    "\n",
    "        # 2.5 Set the pixels to show the image    \n",
    "        \n",
    "        ## Make the Raspberry Pi sleep for a bit\n",
    "          time.sleep(0.1)\n",
    "```\n",
    "\n",
    "As you might see, the skeleton code is split up into sections, divided by the headlines.\n",
    "For example:\n",
    "\n",
    "```python \n",
    "    #### 2. Main code section\n",
    "```\n",
    "When you set about your task you should let these headlines guide you on what to\n",
    "do in each part of the code. The next part of this guide will explain the stuff that's\n",
    "already in the skeleton code when you first open it.\n",
    "\n",
    "Note: The text starting with a '#' is called a comment. These comments explain what the code does\n",
    "to programmers and people reading the code, but is ignored by the computer.\n",
    "\n",
    "##### Explanation of the skeleton code\n",
    "\n",
    "The first few lines in the script are:\n",
    "\n",
    "```python \n",
    "    \n",
    "    # 1.1 Import libraries\n",
    "    from sense_hat import SenseHat\n",
    "    from senseGraphics import *\n",
    "    import random\n",
    "    from senselib import *\n",
    "    import time\n",
    "    \n",
    "    # (1.2) Initialisation\n",
    "\n",
    "    sense = SenseHat() # This will be used to control the the SenseHat.\n",
    "    initialise(sense) # Initialises the senselib library, that provides us with some useful functions\n",
    "    sense.set_imu_config(False, False, True) \n",
    "    sense.clear() # Clears all pixels on the screen.\n",
    "\n",
    "\n",
    "```\n",
    "\n",
    "Without going into detail, these lines are called *import statements*. They are\n",
    "used to *import* code from other Python files into your own file. This is useful\n",
    "because you can use other people's code to simplify your own.\n",
    "\n",
    "The next part of the code (Sec. 1.2) creates some important *Objects* (don't worry\n",
    "if you're not sure what that means) that we'll use in the later on.\n",
    "\n",
    "Sec. 2 is where all the main coding will take place. This is the *Main Loop*\n",
    "\n",
    "---"
   ]
  },
  {
   "cell_type": "markdown",
   "metadata": {},
   "source": [
    "## 2. Setting Pixels on the Sense HAT (Recap)\n",
    "\n",
    "***This section is meant to remind you how to set all the pixels on the Sense HAT using a list. If you already know how to do this from a previous project, you may skip this section.***\n",
    "\n",
    "The Sense HAT allows us to use the *set_pixels* function to set all the pixels to certain colours as defined by in a *list*. This is better understood with an example. The code below defines a *list* with 64 values. Each value is a colour. The *list* tells the Raspberry Pi what colour each pixel will be set to.\n",
    "\n",
    "Run the following section of code: \n"
   ]
  },
  {
   "cell_type": "code",
   "execution_count": null,
   "metadata": {
    "collapsed": true
   },
   "outputs": [],
   "source": [
    "from sense_hat import SenseHat\n",
    "sense = SenseHat()\n",
    "\n",
    "r = [255,0,0]\n",
    "\n",
    "image = [\n",
    "  r,r,r,r,r,r,r,r, #This is the first row of pixels\n",
    "  r,r,r,r,r,r,r,r, #The second\n",
    "  r,r,r,r,r,r,r,r, #The third\n",
    "  r,r,r,r,r,r,r,r, #And so on..\n",
    "  r,r,r,r,r,r,r,r,\n",
    "  r,r,r,r,r,r,r,r,\n",
    "  r,r,r,r,r,r,r,r,\n",
    "  r,r,r,r,r,r,r,r,\n",
    "]\n",
    "\n",
    "sense.set_pixels(image)"
   ]
  },
  {
   "cell_type": "markdown",
   "metadata": {},
   "source": [
    "#### Making a picture\n",
    "The *set_pixels* function is actually really useful as it let's us make images really easily. The *list* essentially acts as a drawing board that resembles the LED matrix on the Sense HAT. For example if I take the 3rd element along in the first row and set that to yellow in the *list* it will set the 3rd pixel along in the first row to yellow."
   ]
  },
  {
   "cell_type": "code",
   "execution_count": null,
   "metadata": {
    "collapsed": true
   },
   "outputs": [],
   "source": [
    "y = [255,255,0]\n",
    "image = [\n",
    "  r,r,r,y,r,r,r,r, #Setting the third pixel along to yellow\n",
    "  r,r,r,r,r,r,r,r, #The second\n",
    "  r,r,r,r,r,r,r,r, #The third\n",
    "  r,r,r,r,r,r,r,r, #And so on..\n",
    "  r,r,r,r,r,r,r,r,\n",
    "  r,r,r,r,r,r,r,r,\n",
    "  r,r,r,r,r,r,r,r,\n",
    "  r,r,r,r,r,r,r,r,\n",
    "]\n",
    "\n",
    "sense.set_pixels(image)"
   ]
  },
  {
   "cell_type": "markdown",
   "metadata": {},
   "source": [
    "Great! So now that we can see how to use *lists* and the *set_pixels* function to set all the pixels at the same time. We can make an image!\n",
    "\n",
    "#### Making a plus sign\n",
    "\n",
    "Let's try making a simple image first. We're going to make a plus sign:\n"
   ]
  },
  {
   "cell_type": "code",
   "execution_count": 2,
   "metadata": {},
   "outputs": [
    {
     "data": {
      "text/html": [
       "\n",
       "        <iframe\n",
       "            width=\"700\"\n",
       "            height=\"350\"\n",
       "            src=\"https://trinket.io/embed/python/468d18caea?outputOnly=true&runOption=run&start=result\"\n",
       "            frameborder=\"0\"\n",
       "            allowfullscreen\n",
       "        ></iframe>\n",
       "        "
      ],
      "text/plain": [
       "<IPython.lib.display.IFrame at 0x1698679a390>"
      ]
     },
     "execution_count": 2,
     "metadata": {},
     "output_type": "execute_result"
    }
   ],
   "source": [
    "#Remember to run each code cell as you go along (click on this code cell then press SHIFT+ENTER)\n",
    "from IPython.display import IFrame\n",
    "IFrame('https://trinket.io/embed/python/468d18caea?outputOnly=true&runOption=run&start=result', width=700, height=350)"
   ]
  },
  {
   "cell_type": "markdown",
   "metadata": {},
   "source": [
    "Edit the following cell to make the cross that you see above: "
   ]
  },
  {
   "cell_type": "code",
   "execution_count": null,
   "metadata": {
    "collapsed": true
   },
   "outputs": [],
   "source": [
    "#edit the image array below\n",
    "image = [\n",
    "  r,r,r,r,r,r,r,r, \n",
    "  r,r,r,r,r,r,r,r, \n",
    "  r,r,r,r,r,r,r,r, \n",
    "  r,r,r,r,r,r,r,r, \n",
    "  r,r,r,r,r,r,r,r,\n",
    "  r,r,r,r,r,r,r,r,\n",
    "  r,r,r,r,r,r,r,r,\n",
    "  r,r,r,r,r,r,r,r,\n",
    "]\n",
    "\n",
    "## Setting pixels to list above\n",
    "sense.set_pixels(image)"
   ]
  },
  {
   "cell_type": "markdown",
   "metadata": {},
   "source": [
    "---\n",
    "\n",
    "## 3. Back to Glitter\n",
    "\n",
    "Creating glitter on the screen is actually easily done by creating a *list* with random shades of a certain colour. To get a random shade of a certain colour we use the *randomShade()* function. For example the code below will set all the pixels to some random shade of green using a *list* and the *set_pixels* function. Run the following cocde cell: \n"
   ]
  },
  {
   "cell_type": "code",
   "execution_count": null,
   "metadata": {
    "collapsed": true
   },
   "outputs": [],
   "source": [
    "from senseGraphics import *\n",
    "from senselib import *\n",
    "\n",
    "g = randomShade('green')\n",
    "\n",
    "image = [\n",
    "  g,g,g,g,g,g,g,g, #Setting the third pixel along to yellow\n",
    "  g,g,g,g,g,g,g,g, #The second\n",
    "  g,g,g,g,g,g,g,g, #The third\n",
    "  g,g,g,g,g,g,g,g, #And so on..\n",
    "  g,g,g,g,g,g,g,g,\n",
    "  g,g,g,g,g,g,g,g,\n",
    "  g,g,g,g,g,g,g,g,\n",
    "  g,g,g,g,g,g,g,g,\n",
    "]\n",
    "\n",
    "sense.set_pixels(image)"
   ]
  },
  {
   "cell_type": "markdown",
   "metadata": {},
   "source": [
    "Try run the cell above again and again, each time you should get a different shade of green. "
   ]
  },
  {
   "cell_type": "markdown",
   "metadata": {},
   "source": [
    "#### Filling lists using Loops\n",
    "\n",
    "Typing out *lists* can get quite annoying and it would be easier if we can automate this. We can add elements to a *list* using the *.append* function on a *list*. Let's demonstrate what this means."
   ]
  },
  {
   "cell_type": "code",
   "execution_count": 5,
   "metadata": {
    "collapsed": true
   },
   "outputs": [],
   "source": [
    "#First we create an empty *list*.\n",
    "my_list = []"
   ]
  },
  {
   "cell_type": "markdown",
   "metadata": {},
   "source": [
    "If we were to *print* the *list* defined above, we would get an empty *list* because we haven't actually put anything in it. The code bellow will add the colour variable *g* and the variable *r* to the list."
   ]
  },
  {
   "cell_type": "code",
   "execution_count": 6,
   "metadata": {
    "collapsed": true
   },
   "outputs": [],
   "source": [
    "g = [0,255,0]\n",
    "r = [255,0,0]\n",
    "my_list.append(g)\n",
    "my_list.append(r)"
   ]
  },
  {
   "cell_type": "code",
   "execution_count": null,
   "metadata": {
    "collapsed": true
   },
   "outputs": [],
   "source": [
    "#now print my list\n"
   ]
  },
  {
   "cell_type": "markdown",
   "metadata": {},
   "source": [
    "\n",
    "The *list* given above has 2 elements. Both of the elements are also *lists* but that is not important here, as we can make a list of any type of object in python. To create a image for the Sense HAT's screen we need a *list* with 64 elements (all the elements will be also be lists that hold the RGB values to set the colour).\n",
    "\n",
    "This means we need to *append* to an empty *list* 64 times. But what can we use to repeat code?\n",
    "\n",
    "Loops!"
   ]
  },
  {
   "cell_type": "markdown",
   "metadata": {},
   "source": [
    "The *for-loop* below will run 64 times and add the colour green (variable *g*) to a *list* : "
   ]
  },
  {
   "cell_type": "code",
   "execution_count": 7,
   "metadata": {
    "collapsed": true
   },
   "outputs": [],
   "source": [
    "image = []\n",
    "g = [0,255,0]\n",
    "\n",
    "for i in range(64):\n",
    "    image.append(g) ## Adding the variable g to the list"
   ]
  },
  {
   "cell_type": "code",
   "execution_count": 9,
   "metadata": {
    "collapsed": true
   },
   "outputs": [],
   "source": [
    "##print the imaage array here\n",
    "\n",
    "##display the image array on the senseHat"
   ]
  },
  {
   "cell_type": "markdown",
   "metadata": {},
   "source": [
    "All of the pixels should have been set to green."
   ]
  },
  {
   "cell_type": "markdown",
   "metadata": {},
   "source": [
    "---\n",
    "## 4. Writing Code\n",
    "\n",
    "If you understood the concepts explained above, you are ready to make glitter! **If you are unsure about anything, ask one of workshop mentors or others in the class to you.**\n",
    "\n",
    "##### Sec 2.1 Picking a colour\n",
    "\n",
    "As part of the skeleton code there is the following: \n",
    "\n",
    "```python \n",
    "## 2.0 Available colours\n",
    "    colours = [\n",
    "      \"yellow\",\"blue\", \"red\",\"pink\",\"green\",\"orange\", \"violet\",\"purple\",\"gold\"\n",
    "      ]\n",
    "## 2.1 set the colour of glitter\n",
    "\n",
    "```\n",
    "The possible colours we can use have been defined in the *colours* array. \n",
    "\n",
    "The first thing we are going to do is to *set the colour*. To do this make a variable \"my_colour\" (or a similar name) and assign it (make it equal) to one of the colours in the colours array. You can do this by either referencing the *colour* array or just by writting the colour. \n",
    "\n",
    "This variable will be used in the next section 2.3, within the *randomShade* function so it must be a *string*. \n"
   ]
  },
  {
   "cell_type": "code",
   "execution_count": 11,
   "metadata": {
    "collapsed": true
   },
   "outputs": [],
   "source": [
    "#Sec 2.1 Picking a colour\n"
   ]
  },
  {
   "cell_type": "markdown",
   "metadata": {},
   "source": [
    "---\n",
    "The next few sections of the code will go inside the following *while* loop you saw in the skeleton code: \n",
    "\n",
    "```python \n",
    "\n",
    " while True:\n",
    "      ## 2.2 creating an empty list that will hold the image\n",
    "\n",
    "      for i in range(64):\n",
    "\n",
    "        # 2.3 get a random shade of some colour\n",
    "\n",
    "        # 2.4 add that to your list\n",
    "\n",
    "        # 2.5 Set the pixels to show the image    \n",
    "        \n",
    "```\n",
    "\n",
    "##### Sec 2.2 : Making an empty array that will hold the image\n",
    "Create an empty list that you will add the random shade of your chosen colour to. Just like how we created an empty list for *image* outside the for loop above. "
   ]
  },
  {
   "cell_type": "code",
   "execution_count": 12,
   "metadata": {
    "collapsed": true
   },
   "outputs": [],
   "source": [
    "#Sec 2.2 creating an empty list that will hold the image\n"
   ]
  },
  {
   "cell_type": "markdown",
   "metadata": {},
   "source": [
    "---\n",
    "#####  Sec 2.3 : Getting a random shade of your chosen colour \n",
    "\n",
    "Get a random shade of the colour you chose using the *randomShade* function. \n",
    "\n",
    "We used the *randomShade* function earlier, we want a *randomShade* of the variable you made in sec 2.1. Give your variable name something suitable. \n"
   ]
  },
  {
   "cell_type": "code",
   "execution_count": null,
   "metadata": {
    "collapsed": true
   },
   "outputs": [],
   "source": [
    "# 2.3 get a random shade of some colour\n"
   ]
  },
  {
   "cell_type": "markdown",
   "metadata": {},
   "source": [
    "---\n",
    "##### Sec 2.4\n",
    "\n",
    "Add the random shade to the array you created in Sec 2.2"
   ]
  },
  {
   "cell_type": "code",
   "execution_count": 13,
   "metadata": {
    "collapsed": true
   },
   "outputs": [],
   "source": [
    "# 2.4 add that to your list"
   ]
  },
  {
   "cell_type": "markdown",
   "metadata": {},
   "source": [
    "---\n",
    "##### 2.5 Set the pixels to show the image\n",
    "\n",
    "Just like how you saw earlier, use the *set_pixels* function to show your image/ array list. \n"
   ]
  },
  {
   "cell_type": "code",
   "execution_count": 15,
   "metadata": {
    "collapsed": true
   },
   "outputs": [],
   "source": [
    "# 2.5 Set the pixels to show the image    "
   ]
  },
  {
   "cell_type": "markdown",
   "metadata": {},
   "source": [
    "---\n",
    "## 5. Your final programme\n",
    "\n",
    "From completing the coding sections above you now have all the pieces for your glitter programme.\n",
    "\n",
    "Add the lines of code you have written (copy and paste) into the relevant sections:"
   ]
  },
  {
   "cell_type": "code",
   "execution_count": null,
   "metadata": {
    "collapsed": true
   },
   "outputs": [],
   "source": [
    "# 1.1 Import libraries\n",
    "from sense_hat import SenseHat\n",
    "from senseGraphics import *\n",
    "import random\n",
    "from senselib import *\n",
    "import time\n",
    "\n",
    "# (1.2) Initialisation\n",
    "sense = SenseHat() # This will be used to control the the SenseHat.\n",
    "initialise(sense) # Initialises the senselib library, that provides us with some useful functions\n",
    "sense.set_imu_config(False, False, True) \n",
    "sense.clear() # Clears all pixels on the screen.\n",
    "\n",
    "## 2.0 Available colours\n",
    "colours = [\n",
    "      \"yellow\",\"blue\", \"red\",\"pink\",\"green\",\"orange\", \"violet\",\"purple\",\"gold\"\n",
    "      ]\n",
    "## 2.1 set the colour of glitter\n",
    "\n",
    "\n",
    " while True:\n",
    "      ## 2.2 creating an empty list that will hold the image\n",
    "\n",
    "    for i in range(64):\n",
    "\n",
    "        # 2.3 get a random shade of some colour\n",
    "\n",
    "        # 2.4 add that to your list\n",
    "\n",
    "        # 2.5 Set the pixels to show the image    \n",
    "        \n",
    "        ## Make the Raspberry Pi sleep for a bit\n",
    "          time.sleep(0.1)"
   ]
  },
  {
   "cell_type": "markdown",
   "metadata": {},
   "source": [
    "---\n",
    "## WELL DONE! You have now finished creating the senseHat digital clock! \n",
    "\n",
    "You should now have a go at the senseHat **Magic eight** project to challenge yourself further, or have a go at the **extension** to add a *shake* feature to the programme.\n"
   ]
  },
  {
   "cell_type": "markdown",
   "metadata": {},
   "source": [
    "---\n",
    "\n",
    "### EXTENSION"
   ]
  },
  {
   "cell_type": "markdown",
   "metadata": {},
   "source": [
    "**Change the Glitter Colour by Shaking**\n",
    "\n",
    "The Sense HAT comes with an accelerometer. This means that you can detect if the Raspberry Pi has been moved! Run the code cell below, it measures acceleration of a shake and if it is above a certain value, all the pixels will be set to the Raspberry Pi Logo: \n",
    "\n"
   ]
  },
  {
   "cell_type": "code",
   "execution_count": null,
   "metadata": {
    "collapsed": true
   },
   "outputs": [],
   "source": [
    "r = [255,0,0] ## Defining the colour red\n",
    "g =[0,255,0] ## Defining the colour green\n",
    "e = [0,0,0] ## This variable set's the pixel to off\n",
    "\n",
    "logo = [\n",
    "    e, g, g, e, e, g, g, e,\n",
    "    e, e, g, g, g, g, e, e,\n",
    "    e, e, r, r, r, r, e, e,\n",
    "    e, r, r, r, r, r, r, e,\n",
    "    r, r, r, r, r, r, r, r,\n",
    "    r, r, r, r, r, r, r, r,\n",
    "    o, r, r, r, r, r, r, o,\n",
    "    o, o, r, r, r, r, o, o,\n",
    "    ]\n",
    "\n",
    "ac = sense.get_accelerometer_raw()\n",
    "  \n",
    "x = ac[\"x\"]\n",
    "y = ac[\"y\"]\n",
    "z = ac[\"z\"]\n",
    "\n",
    "shake = x*x + y*y + z*z\n",
    "\n",
    "if shake > 5.0:\n",
    "    sense.set_pixels(logo)"
   ]
  },
  {
   "cell_type": "markdown",
   "metadata": {},
   "source": [
    "Think about how you can use the code above to randomly change the colour of the glitter when the Raspberry Pi is shaken.\n",
    "\n",
    "You will find the following function useful:\n",
    "\n",
    "To randomly select something from a list, you can use the random.choice function. The code below will randomly choose a number from the list numbers and print it to the console."
   ]
  },
  {
   "cell_type": "code",
   "execution_count": 18,
   "metadata": {},
   "outputs": [
    {
     "name": "stdout",
     "output_type": "stream",
     "text": [
      "3\n"
     ]
    }
   ],
   "source": [
    "numbers = [1,2,3,4,5,6]\n",
    "\n",
    "print(random.choice(numbers))\n"
   ]
  },
  {
   "cell_type": "markdown",
   "metadata": {},
   "source": [
    "Add to your code using the information about the **get_accelerometer_raw()** and **random.choice()** functions to change the Glitter colour by shaking your raspberry pi. "
   ]
  },
  {
   "cell_type": "markdown",
   "metadata": {},
   "source": [
    "---\n",
    "**Copyright (c)** 2019 hackingEducation All Rights Reserved."
   ]
  },
  {
   "cell_type": "code",
   "execution_count": null,
   "metadata": {
    "collapsed": true
   },
   "outputs": [],
   "source": []
  }
 ],
 "metadata": {
  "kernelspec": {
   "display_name": "Python 3",
   "language": "python",
   "name": "python3"
  },
  "language_info": {
   "codemirror_mode": {
    "name": "ipython",
    "version": 3
   },
   "file_extension": ".py",
   "mimetype": "text/x-python",
   "name": "python",
   "nbconvert_exporter": "python",
   "pygments_lexer": "ipython3",
   "version": "3.6.3"
  }
 },
 "nbformat": 4,
 "nbformat_minor": 2
}
