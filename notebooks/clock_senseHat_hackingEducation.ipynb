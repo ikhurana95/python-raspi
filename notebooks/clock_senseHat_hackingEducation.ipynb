{
 "cells": [
  {
   "cell_type": "markdown",
   "metadata": {},
   "source": [
    "# Project: **Digital Clock**\n",
    "\n",
    "### Difficulty level: Easy\n",
    "\n",
    "---"
   ]
  },
  {
   "cell_type": "code",
   "execution_count": 1,
   "metadata": {},
   "outputs": [
    {
     "data": {
      "text/html": [
       "\n",
       "        <iframe\n",
       "            width=\"700\"\n",
       "            height=\"350\"\n",
       "            src=\"https://trinket.io/embed/python/6e22edab07?outputOnly=true&runOption=run&start=result\"\n",
       "            frameborder=\"0\"\n",
       "            allowfullscreen\n",
       "        ></iframe>\n",
       "        "
      ],
      "text/plain": [
       "<IPython.lib.display.IFrame at 0x22720a6df98>"
      ]
     },
     "execution_count": 1,
     "metadata": {},
     "output_type": "execute_result"
    }
   ],
   "source": [
    "#Remember to run each code cell as you go along (click on this code cell then press SHIFT+ENTER)\n",
    "from IPython.display import IFrame\n",
    "IFrame('https://trinket.io/embed/python/6e22edab07?outputOnly=true&runOption=run&start=result', width=700, height=350)"
   ]
  },
  {
   "cell_type": "markdown",
   "metadata": {},
   "source": [
    "## Description\n",
    "\n",
    "In this project we'll be creating a *Digital Clock* using the Sense HAT. \n",
    "\n",
    "The aim is to make the Sense Hat continuously display the current real time to the **closest minute**.  \n",
    "\n",
    "## Project Manual\n",
    "\n",
    "This project guide will tell you step-by-step the main things you have to do\n",
    "in order to create a _digital clock_. For some of the steps, you'll have to\n",
    "use your own creativity to proceed, good luck!\n",
    "\n",
    "---\n",
    "\n",
    "\n"
   ]
  },
  {
   "cell_type": "markdown",
   "metadata": {
    "collapsed": true
   },
   "source": [
    "## 1. Introducing the project\n",
    "\n",
    "You will be coding within this notebook, which means you're running this notebook on your raspberry pi. \n",
    "\n",
    "To start with we'll look at the skeleton code. \n",
    "\n",
    "This is the overall structure of the programme you are going to write: \n",
    "\n",
    "```python\n",
    "    #### 1.1 Import libraries\n",
    "    from sense_hat import SenseHat\n",
    "    from datetime import datetime\n",
    "\n",
    "    ### 1.2 senseHat object\n",
    "    s = SenseHat()\n",
    "\n",
    "    #### 2. Main code section\n",
    "    while True: \n",
    "\n",
    "        #time_now variable \n",
    "\n",
    "        #time_now in desired format \n",
    "\n",
    "        #showing the time_now on the senseHat\n",
    "\n",
    "```\n",
    "\n",
    "As you might see, the skeleton code is split up into sections, divided by the headlines.\n",
    "For example:\n",
    "\n",
    "```python \n",
    "    #### 2. Main code section\n",
    "```\n",
    "When you set about your task you should let these headlines guide you on what to\n",
    "do in each part of the code. The next part of this guide will explain the stuff that's\n",
    "already in the skeleton code when you first open it.\n",
    "\n",
    "Note: The text starting with a '#' is called a comment. These comments explain what the code does\n",
    "to programmers and people reading the code, but is ignored by the computer.\n",
    "\n",
    "##### Explanation of the skeleton code\n",
    "\n",
    "The first few lines in the script are:\n",
    "\n",
    "```python \n",
    "    #### 1.1 Import libraries\n",
    "    from sense_hat import SenseHat\n",
    "    from datetime import datetime\n",
    "    \n",
    "    ### 1.2 senseHat object\n",
    "    s = SenseHat()\n",
    "\n",
    "     \n",
    "```\n",
    "\n",
    "Without going into detail, these lines are called *import statements*. They are\n",
    "used to *import* code from other Python files into your own file. This is useful\n",
    "because you can use other people's code to simplify your own.\n",
    "\n",
    "The next part of the code (Sec. 1.2) creates some important *Objects* (don't worry\n",
    "if you're not sure what that means) that we'll use in the later on.\n",
    "\n",
    "Sec. 2 is where all the main coding will take place. This is the *Main Loop*\n",
    "\n",
    "---\n"
   ]
  },
  {
   "cell_type": "markdown",
   "metadata": {},
   "source": [
    "### 2. Writing the code\n",
    "\n",
    "##### (Sec 2.1) \n",
    "\n",
    "We want the SenseHat to display the time at all times. \n",
    "\n",
    "If you look at the section, you'll see the following code:\n",
    "\n",
    "```python\n",
    "while True: \n",
    "    \n",
    "    #get the time \n",
    "    \n",
    "```\n",
    "\n",
    "Before we start coding inside the \"while loop\" we will we will need a **_time now_** variable. \n",
    "\n",
    "Run the following code to see how we might generate a \"time_now\" variable:"
   ]
  },
  {
   "cell_type": "code",
   "execution_count": 17,
   "metadata": {},
   "outputs": [
    {
     "name": "stdout",
     "output_type": "stream",
     "text": [
      "21:06:43.877391\n"
     ]
    }
   ],
   "source": [
    "from sense_hat import SenseHat\n",
    "from datetime import datetime\n",
    "my_sense_hat = SenseHat()\n",
    "\n",
    "print(datetime.now().time())"
   ]
  },
  {
   "cell_type": "markdown",
   "metadata": {},
   "source": [
    "**In the code cell below** : \n",
    "- assign the **_datetime.now().time()_** to a variable name **time_now**\n",
    "- Print your **time_now** variable \n",
    "- Print the **_type_** of your **time_now** variable _(if you can't remember what \"type\" means, look back at session 1)_"
   ]
  },
  {
   "cell_type": "code",
   "execution_count": 28,
   "metadata": {
    "collapsed": true
   },
   "outputs": [],
   "source": [
    "###time_now variable \n",
    "   \n",
    "    ###write your code here"
   ]
  },
  {
   "cell_type": "markdown",
   "metadata": {},
   "source": [
    "What is the result of your code above? \n",
    "\n",
    "You should have gotten the output of the time to the nearest second and the type of **_ < class 'datetime.time' > _**. \n",
    "\n",
    "Just like we have words or in python terms _strings_ and whole numbers or in python terms _int_ and decimal numbers in python terms as _float_, there is another type of _datetime.time_, which is used for the date and time. \n",
    "\n",
    "**For our clock, we want to display the time to the nearest minute.** \n",
    "\n",
    "How can we do this? \n",
    "\n",
    "One way to do this is convert our _datetime.time_ into a string. See the next section for instructions on this step, or have a go if you know how!  \n",
    "\n",
    "---"
   ]
  },
  {
   "cell_type": "markdown",
   "metadata": {},
   "source": [
    "##### (Sec 2.2) \n",
    "\n",
    "What happens when you try to run the following code? : \n"
   ]
  },
  {
   "cell_type": "code",
   "execution_count": null,
   "metadata": {
    "collapsed": true
   },
   "outputs": [],
   "source": [
    "my_sense_hat.show_message(datetime.now().time(), 0.05, text_colour=[255,0,0])"
   ]
  },
  {
   "cell_type": "markdown",
   "metadata": {},
   "source": [
    "The SenseHat \"showmessage\" function can only show strings. We saw in the last section that the type of \"datetime.now().time()\" is not a string. \n",
    "\n",
    "In Python it is possible to convert one type into another. \n",
    "\n",
    "See the example bellow: "
   ]
  },
  {
   "cell_type": "code",
   "execution_count": 24,
   "metadata": {},
   "outputs": [
    {
     "name": "stdout",
     "output_type": "stream",
     "text": [
      "<class 'int'>\n"
     ]
    }
   ],
   "source": [
    "number_1 = 5\n",
    "print (type(number_1))"
   ]
  },
  {
   "cell_type": "code",
   "execution_count": 27,
   "metadata": {},
   "outputs": [
    {
     "name": "stdout",
     "output_type": "stream",
     "text": [
      "5.0\n",
      "<class 'float'>\n"
     ]
    }
   ],
   "source": [
    "number_2 = float(number_1) #converting number_1 from an \"int\" to \"float\"\n",
    "print(number_2)\n",
    "print(type(number_2))"
   ]
  },
  {
   "cell_type": "markdown",
   "metadata": {},
   "source": [
    "From the example, try to find the syntax of converting to a string. You can google or try looking at the introduction to python workshop, or by printing the type of a string and seeing how it is written. \n",
    "\n",
    "- Convert your **time_now** variable into a string variable and give it a name **time_now_string** or whatever you like!"
   ]
  },
  {
   "cell_type": "code",
   "execution_count": 29,
   "metadata": {
    "collapsed": true
   },
   "outputs": [],
   "source": [
    "###converting time_now into a string\n",
    "    ###write your code here"
   ]
  },
  {
   "cell_type": "markdown",
   "metadata": {},
   "source": [
    "Once you have converted *time_now* to a string, for our clock we want to display the time to the nearest minute. \n",
    "\n",
    "Remember when we printed what *time_now* was? it was to the nearest milisecond.\n",
    "\n",
    "How can we display *time_now* to the nearest mintue? (see next section) \n",
    "\n",
    "--- \n"
   ]
  },
  {
   "cell_type": "markdown",
   "metadata": {},
   "source": [
    "##### (Sec 2.3) \n",
    "\n",
    "To display *time_now* to the nearest minute, we need to use the fact that the type **_String_** acts like an **_array_**. \n",
    "\n",
    "You might remember from your previous session about arrays: "
   ]
  },
  {
   "cell_type": "code",
   "execution_count": 35,
   "metadata": {
    "collapsed": true
   },
   "outputs": [],
   "source": [
    "my_array = [7 ,\"car\", 4, \"monday\"]"
   ]
  },
  {
   "cell_type": "markdown",
   "metadata": {},
   "source": [
    "Each number in the **my_array** is an called an **element**. \n",
    "\n",
    "How would I print **car** from **my_array**? "
   ]
  },
  {
   "cell_type": "code",
   "execution_count": 37,
   "metadata": {},
   "outputs": [
    {
     "name": "stdout",
     "output_type": "stream",
     "text": [
      "car\n",
      "[7, 'car', 4]\n"
     ]
    }
   ],
   "source": [
    "print (my_array[1])\n",
    "print (my_array[0:3])"
   ]
  },
  {
   "cell_type": "markdown",
   "metadata": {},
   "source": [
    "As you can see from running the above cells, the expression ** my_array[ _number of the element we want_ ] ** allows us to. \n",
    "\n",
    "Note that couting the element of an array starts from 0 not 1 \n",
    "\n",
    "Your variable *time_now_string\" will act the same as an array. \n",
    "\n",
    "- Create a new variable using  **time_now_string[figure out what goes in here]**  and assign it to a new variable name \n",
    "- Print your new variable to check that it is in the form we want (to the nearest minute) "
   ]
  },
  {
   "cell_type": "code",
   "execution_count": 38,
   "metadata": {
    "collapsed": true
   },
   "outputs": [],
   "source": [
    "###time_now_string to the nearest mintue \n",
    "    ###write your code here"
   ]
  },
  {
   "cell_type": "markdown",
   "metadata": {},
   "source": [
    "---\n",
    "\n",
    "##### (Sec 2.4) \n",
    "\n",
    "Now that we have our time_now variable as a string and to the nearest mintue, we need to display it on the senseHat. \n",
    "\n",
    "- Display your time_now_string_nm (nearest mintue), or whatever you have called your variable, on the senseHat. Use the s.showmessage function, scroll up to see how it is written"
   ]
  },
  {
   "cell_type": "code",
   "execution_count": 40,
   "metadata": {
    "collapsed": true
   },
   "outputs": [],
   "source": [
    " ###showing the time_now on the senseHat\n",
    "    ###write your code here"
   ]
  },
  {
   "cell_type": "markdown",
   "metadata": {},
   "source": [
    "What happens when you run your code above? You should get the time being displayed! \n",
    "\n",
    "**But if you wait more than a minute, you will notice that the time is no longer correct.** \n",
    "\n",
    "We need to contiously keep getting the time each time it is displayed, how can we do this? (see the next section) \n",
    "\n",
    "---"
   ]
  },
  {
   "cell_type": "markdown",
   "metadata": {},
   "source": [
    "## 3. Your final programme "
   ]
  },
  {
   "cell_type": "markdown",
   "metadata": {},
   "source": [
    "From Section 2 you now have all the pieces for your clock prgramme. \n",
    "\n",
    "All of what you have done so far needs to be inside a **_While_** loop, or in other words **we want the senseHat to display the correct time all the time**. \n",
    "\n",
    "Add the lines of code you have written (copy and paste) into the relevant sections: "
   ]
  },
  {
   "cell_type": "code",
   "execution_count": null,
   "metadata": {
    "collapsed": true
   },
   "outputs": [],
   "source": [
    "#### 1.1 Import libraries\n",
    "from sense_hat import SenseHat\n",
    "from datetime import datetime\n",
    "\n",
    "### 1.2 senseHat object\n",
    "my_sense_hat = SenseHat()\n",
    "\n",
    "#loop\n",
    "while True: \n",
    "\n",
    "       ###time_now variable \n",
    "\n",
    "        \n",
    "       ###converting time_now into a string\n",
    "    \n",
    "\n",
    "       ###time_now_string to the nearest mintue \n",
    "        \n",
    "        \n",
    "       ###showing the time_now on the senseHat"
   ]
  },
  {
   "cell_type": "markdown",
   "metadata": {},
   "source": [
    "If your programme is all correct, your senseHat should be displaying the current time and constantly updating! \n",
    "\n",
    "---"
   ]
  },
  {
   "cell_type": "markdown",
   "metadata": {},
   "source": [
    "## WELL DONE! You have now finished creating the senseHat digital clock! \n",
    "\n",
    "You should now have a go at the senseHat **Magic eight** project to challenge yourself further, or have a go at the **extension** to see how else you could have done parts of the code in this project."
   ]
  },
  {
   "cell_type": "markdown",
   "metadata": {},
   "source": [
    "---\n",
    "\n",
    "### EXTENSION"
   ]
  },
  {
   "cell_type": "markdown",
   "metadata": {},
   "source": [
    "With programming, there is not just one solution! \n",
    "\n",
    "There are many ways to write the same programme, just like there are many ways to write an essay or story. \n",
    "\n",
    "Some solutions are better than others. \n",
    "\n",
    "Have a go at changing your clock programme: \n",
    "- Use a **python function** that converts **datetime.now().time()** straight into the format we want. \n",
    "\n",
    "Tips: \n",
    "- Try to google to see what you can find. \n",
    "- If you get stuck googling, try looking [here](https://www.programiz.com/python-programming/datetime) at **example 15**. \n",
    "\n",
    "\n",
    "\n",
    "\n",
    "clue: \n",
    "*If you get really stuck, the function we can use is called strftime() in example 15 , figure out how to use it!*\n",
    "\n"
   ]
  },
  {
   "cell_type": "code",
   "execution_count": null,
   "metadata": {
    "collapsed": true
   },
   "outputs": [],
   "source": []
  }
 ],
 "metadata": {
  "kernelspec": {
   "display_name": "Python 3",
   "language": "python",
   "name": "python3"
  },
  "language_info": {
   "codemirror_mode": {
    "name": "ipython",
    "version": 3
   },
   "file_extension": ".py",
   "mimetype": "text/x-python",
   "name": "python",
   "nbconvert_exporter": "python",
   "pygments_lexer": "ipython3",
   "version": "3.7.2"
  }
 },
 "nbformat": 4,
 "nbformat_minor": 2
}
