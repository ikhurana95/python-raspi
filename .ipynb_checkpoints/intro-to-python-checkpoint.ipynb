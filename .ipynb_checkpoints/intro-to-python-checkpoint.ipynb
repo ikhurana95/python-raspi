{
 "cells": [
  {
   "cell_type": "markdown",
   "metadata": {
    "colab_type": "text",
    "id": "fz59urx1BFB5"
   },
   "source": [
    "# hackingEducation - Session 1\n",
    "# Introduction to Python & SenseHat "
   ]
  },
  {
   "cell_type": "markdown",
   "metadata": {
    "colab_type": "text",
    "id": "fI9mcqhNBFB_"
   },
   "source": [
    "## 1. Jupyter Notebooks\n",
    "\n",
    "Hello and welcome!\n",
    "\n",
    "This page you're currently on is called a _Jupyter Notebook_. It's an _interactive Python_ environment, which allows us to experiment with and learn Python in an _interactive_ way. In general _Jupyter_ is what we'd call an _Integrated development environment_ (IDE), a program that enables us to write and run Python programs. There are many different IDEs for any single programming language, with different kinds of advantages for each.\n",
    "\n",
    "Jupyter is quite different other IDEs because it allows us to both write text and code, in the same document. The basic building block of a Jupyter notebook is the _cell_. Code is written in _code cells_ and text is written in _markdown cells_. This, for example, is a text cell. If you try double clicking on the cell, the cell should change into _edit mode_, and you'll be able to edit this text! To go back to displaying the cell normally, press _SHIFT+ENTER_.\n",
    "\n",
    "We will be using Jupyter notebooks to introduce you to simple Python functions that you'll then experiment with in this notebook. Eventually we'll be moving on to another IDE called IDLE."
   ]
  },
  {
   "cell_type": "markdown",
   "metadata": {
    "colab_type": "text",
    "id": "zFrjXfKhBFCE"
   },
   "source": [
    "## 2. The Print Function and 'Hello World'\n",
    "\n",
    "The first thing most people learn is the _print_ function. This function allows the user to tell the computer to \n",
    "display on the screen whatever is inside the print function. \n",
    "\n",
    "This can, for example, be a string of text, a number or even a _variable_ (more on variables later).\n",
    "\n",
    "#### To run a cell press SHIFT-ENTER\n",
    "\n",
    "Click on the code cell below, and press <span style=\"color:green\">SHIFT+ENTER</span>, and you should see that the code in the cell produces some text below it. We call this the code's _output_."
   ]
  },
  {
   "cell_type": "code",
   "execution_count": 0,
   "metadata": {
    "colab": {
     "base_uri": "https://localhost:8080/",
     "height": 52
    },
    "colab_type": "code",
    "executionInfo": {
     "elapsed": 438,
     "status": "ok",
     "timestamp": 1548496451041,
     "user": {
      "displayName": "Ishan Khurana",
      "photoUrl": "https://lh6.googleusercontent.com/-Syr7vsBsxKM/AAAAAAAAAAI/AAAAAAAAAAA/8cz8qPvQngI/s64/photo.jpg",
      "userId": "06612169924267379957"
     },
     "user_tz": 0
    },
    "id": "xq2T5bb_BFCJ",
    "outputId": "962ef02e-154d-4ac9-ccf4-b0f21c32519a"
   },
   "outputs": [
    {
     "name": "stdout",
     "output_type": "stream",
     "text": [
      "Hello world\n",
      "5\n"
     ]
    }
   ],
   "source": [
    "print(\"Hello world\") # printing hello world\n",
    "\n",
    "print(5) # printing the integer 5"
   ]
  },
  {
   "cell_type": "markdown",
   "metadata": {
    "colab_type": "text",
    "id": "50MtsSUABFCn"
   },
   "source": [
    "The bit of writing after the <span style=\"color:green\">#</span> is known as a _comment_. A comment is a piece of non-code text that we put alongside code to help explain it. The purpose of a comment is therefore to explain what the code does in simple English so that a programmer can go back and understand each line of code.\n",
    "\n",
    "Commenting is good programming practice!"
   ]
  },
  {
   "cell_type": "markdown",
   "metadata": {
    "colab_type": "text",
    "id": "a5EmQ8BIBFCr"
   },
   "source": [
    "<span style=\"color:green\">_Execise 1_</span>\n",
    "\n",
    " - Try running the cell again, but change the text from \"Hello World\" to something else.\n",
    " - Try running it with the text changed to “5+3”, what do you get?\n",
    " - Try running it with the text changed to 5+3, without the quotation marks, what do you get?"
   ]
  },
  {
   "cell_type": "markdown",
   "metadata": {
    "colab_type": "text",
    "id": "gBtpYNChBFCv"
   },
   "source": [
    "#### Creating Jupyter notebook cells\n",
    "\n",
    "Now, try create two new cells in this notebook. One text cell, and one code cell. You can do this by clicking on _Insert_ in the menu above, and then click on _Insert Cell Below_. After this you can change the type of the cell using the dropdown menu in the toolbar above.\n",
    "\n",
    "Alternativey, you can create new cells by first pressing ESC on the keyboard, followed by B. Then, to make it a code cell you press Y, or M to make it a text cell. After you've done this, press ENTER to start being able to type in the cell.\n",
    "\n",
    "Write some text in your new markdown cell. You can create headlines by using the character _#_ in the first position on a line. Try writing some print statements in your code cell.\n",
    "\n",
    "Remember, to run the cells, press SHIFT+ENTER."
   ]
  },
  {
   "cell_type": "markdown",
   "metadata": {
    "colab_type": "text",
    "id": "peP7W3zIBFCz"
   },
   "source": [
    "## 3. Simple arithmetic in Python\n",
    "\n",
    "Next thing we'll do is try out some simple mathematical operations in Python. All the major math operators are present in Python, as you can see in the code cell below.\n",
    "\n",
    "Using Python we can add, subtract, multiply or divide numbers. "
   ]
  },
  {
   "cell_type": "code",
   "execution_count": 0,
   "metadata": {
    "colab": {
     "base_uri": "https://localhost:8080/",
     "height": 87
    },
    "colab_type": "code",
    "executionInfo": {
     "elapsed": 450,
     "status": "ok",
     "timestamp": 1548496455262,
     "user": {
      "displayName": "Ishan Khurana",
      "photoUrl": "https://lh6.googleusercontent.com/-Syr7vsBsxKM/AAAAAAAAAAI/AAAAAAAAAAA/8cz8qPvQngI/s64/photo.jpg",
      "userId": "06612169924267379957"
     },
     "user_tz": 0
    },
    "id": "bG-zBM9GBFC5",
    "outputId": "b419609b-eab1-4003-bead-b00350c9ca22"
   },
   "outputs": [
    {
     "name": "stdout",
     "output_type": "stream",
     "text": [
      "14\n",
      "-5\n",
      "10\n",
      "2.0\n"
     ]
    }
   ],
   "source": [
    "print(9+5)\n",
    "\n",
    "print(2-7)\n",
    "\n",
    "print(2*5) \n",
    "\n",
    "print(4/2)"
   ]
  },
  {
   "cell_type": "markdown",
   "metadata": {
    "colab_type": "text",
    "id": "F9dFN5h2BFDC"
   },
   "source": [
    "You can do operations on really large numbers"
   ]
  },
  {
   "cell_type": "code",
   "execution_count": 0,
   "metadata": {
    "colab": {
     "base_uri": "https://localhost:8080/",
     "height": 87
    },
    "colab_type": "code",
    "executionInfo": {
     "elapsed": 635,
     "status": "ok",
     "timestamp": 1548186183389,
     "user": {
      "displayName": "Ishan Khurana",
      "photoUrl": "https://lh6.googleusercontent.com/-Syr7vsBsxKM/AAAAAAAAAAI/AAAAAAAAAAA/8cz8qPvQngI/s64/photo.jpg",
      "userId": "06612169924267379957"
     },
     "user_tz": 0
    },
    "id": "rsxc-BpNBFDF",
    "outputId": "9cb2d542-404a-41a0-83d0-4875eb6ae160"
   },
   "outputs": [
    {
     "name": "stdout",
     "output_type": "stream",
     "text": [
      "316786725\n",
      "3508788689526\n",
      "999999999\n",
      "10.16737505496116\n"
     ]
    }
   ],
   "source": [
    "print(93959293 + 222827432)\n",
    "print(5827362 * 602123)\n",
    "print(1000000000 - 1)\n",
    "print(69372/6823)"
   ]
  },
  {
   "cell_type": "markdown",
   "metadata": {
    "colab_type": "text",
    "id": "5ZhhHrzyBFDQ"
   },
   "source": [
    "and you can do operations on several numbers."
   ]
  },
  {
   "cell_type": "markdown",
   "metadata": {
    "colab_type": "text",
    "id": "22CmAqhIBFDS"
   },
   "source": [
    "You can also use numbers with decimal places in Python. We call these numbers _floating point numbers_ (or _floats_, for short)."
   ]
  },
  {
   "cell_type": "code",
   "execution_count": 0,
   "metadata": {
    "colab": {
     "base_uri": "https://localhost:8080/",
     "height": 35
    },
    "colab_type": "code",
    "executionInfo": {
     "elapsed": 766,
     "status": "ok",
     "timestamp": 1548186186858,
     "user": {
      "displayName": "Ishan Khurana",
      "photoUrl": "https://lh6.googleusercontent.com/-Syr7vsBsxKM/AAAAAAAAAAI/AAAAAAAAAAA/8cz8qPvQngI/s64/photo.jpg",
      "userId": "06612169924267379957"
     },
     "user_tz": 0
    },
    "id": "DmaAgJkaBFDV",
    "outputId": "46353be9-7e00-4669-e8c5-a24160e016cf"
   },
   "outputs": [
    {
     "name": "stdout",
     "output_type": "stream",
     "text": [
      "3.1415926536\n"
     ]
    }
   ],
   "source": [
    "print(3.1415926536)"
   ]
  },
  {
   "cell_type": "code",
   "execution_count": 0,
   "metadata": {
    "colab": {
     "base_uri": "https://localhost:8080/",
     "height": 35
    },
    "colab_type": "code",
    "executionInfo": {
     "elapsed": 540,
     "status": "ok",
     "timestamp": 1548186188305,
     "user": {
      "displayName": "Ishan Khurana",
      "photoUrl": "https://lh6.googleusercontent.com/-Syr7vsBsxKM/AAAAAAAAAAI/AAAAAAAAAAA/8cz8qPvQngI/s64/photo.jpg",
      "userId": "06612169924267379957"
     },
     "user_tz": 0
    },
    "id": "p2Rrzv30BFDf",
    "outputId": "fe4900fc-8133-4d73-a1ab-8bb118a6f571"
   },
   "outputs": [
    {
     "name": "stdout",
     "output_type": "stream",
     "text": [
      "-239.82574999999997\n"
     ]
    }
   ],
   "source": [
    "print(20.5 + 26 - 82.612 * 51 / 16 - 23)"
   ]
  },
  {
   "cell_type": "markdown",
   "metadata": {
    "colab_type": "text",
    "id": "UKXLzIOnBFDu"
   },
   "source": [
    "You've learned about the order of operations in your math classes, but in the above code it's still quite hard to see what number operations go first and last. In order to construct more complex mathematical expressions, we can use the brackets \"(\" and \")\"."
   ]
  },
  {
   "cell_type": "code",
   "execution_count": 0,
   "metadata": {
    "colab": {
     "base_uri": "https://localhost:8080/",
     "height": 69
    },
    "colab_type": "code",
    "executionInfo": {
     "elapsed": 387,
     "status": "ok",
     "timestamp": 1548186191379,
     "user": {
      "displayName": "Ishan Khurana",
      "photoUrl": "https://lh6.googleusercontent.com/-Syr7vsBsxKM/AAAAAAAAAAI/AAAAAAAAAAA/8cz8qPvQngI/s64/photo.jpg",
      "userId": "06612169924267379957"
     },
     "user_tz": 0
    },
    "id": "UP9Ae3WcBFDx",
    "outputId": "c9b2e479-1a7b-45b9-a403-91e9b0e89001"
   },
   "outputs": [
    {
     "name": "stdout",
     "output_type": "stream",
     "text": [
      "28.0\n",
      "134.36274208422995\n",
      "-1979.1395077521024\n"
     ]
    }
   ],
   "source": [
    "print( (2.5+3.1) * 5 )\n",
    "print( 6 + ((100.42 - 1)*42)/32.53 )\n",
    "print( (2.0001 * (23 - 3) / (12 * 23.542) - 32)*62.123 )"
   ]
  },
  {
   "cell_type": "markdown",
   "metadata": {
    "colab_type": "text",
    "id": "YlrBKhsVBFD7"
   },
   "source": [
    "Be wary of correctly placing your brackets! Many errors in your code will come from mismatching number of opening brackets \"(\" and closing brackets \")\"."
   ]
  },
  {
   "cell_type": "markdown",
   "metadata": {
    "colab_type": "text",
    "id": "Wc41vw3pBFD9"
   },
   "source": [
    "#### Floating point numbers vs. integers\n",
    "\n",
    "In Python we have to make a distinction between _integers_ and _floating point numbers_. The former are just _whole numbers_, while the latter are _decimals_. This distinctions is quite important as python will store the numbers either as 'integers' -whole numbers or 'floats' - decimal point numbers. \n",
    "Look at the code cell below, containing the number 3, first expressed as a 'int' version and secondly expresed as a 'float' version. Run the two cells below to verfiy what 'type' each is!"
   ]
  },
  {
   "cell_type": "code",
   "execution_count": 0,
   "metadata": {
    "colab": {
     "base_uri": "https://localhost:8080/",
     "height": 35
    },
    "colab_type": "code",
    "executionInfo": {
     "elapsed": 698,
     "status": "ok",
     "timestamp": 1548186196423,
     "user": {
      "displayName": "Ishan Khurana",
      "photoUrl": "https://lh6.googleusercontent.com/-Syr7vsBsxKM/AAAAAAAAAAI/AAAAAAAAAAA/8cz8qPvQngI/s64/photo.jpg",
      "userId": "06612169924267379957"
     },
     "user_tz": 0
    },
    "id": "ed1gAeEhBFD_",
    "outputId": "61758001-65fd-4f2b-ef2f-d3f22b0bad0b"
   },
   "outputs": [
    {
     "name": "stdout",
     "output_type": "stream",
     "text": [
      "<class 'int'>\n"
     ]
    }
   ],
   "source": [
    "print (type (3))"
   ]
  },
  {
   "cell_type": "code",
   "execution_count": 0,
   "metadata": {
    "colab": {
     "base_uri": "https://localhost:8080/",
     "height": 35
    },
    "colab_type": "code",
    "executionInfo": {
     "elapsed": 440,
     "status": "ok",
     "timestamp": 1548186198633,
     "user": {
      "displayName": "Ishan Khurana",
      "photoUrl": "https://lh6.googleusercontent.com/-Syr7vsBsxKM/AAAAAAAAAAI/AAAAAAAAAAA/8cz8qPvQngI/s64/photo.jpg",
      "userId": "06612169924267379957"
     },
     "user_tz": 0
    },
    "id": "WDrdmt8YBFEJ",
    "outputId": "128363d9-5418-45d9-f38b-5b0b47c9a5e0"
   },
   "outputs": [
    {
     "name": "stdout",
     "output_type": "stream",
     "text": [
      "<class 'float'>\n"
     ]
    }
   ],
   "source": [
    "print (type (3.0))\n"
   ]
  },
  {
   "cell_type": "markdown",
   "metadata": {
    "colab_type": "text",
    "id": "l-HFlwnaBFES"
   },
   "source": [
    "#### Strings\n",
    "\n",
    "Earlier you saw that you can also use the _print_ statement to display bits of text. These bits of text are referred to as _strings_, because they're _strings of characters_. You can actually use the \"+\"-symbol to add strings together."
   ]
  },
  {
   "cell_type": "code",
   "execution_count": 0,
   "metadata": {
    "colab": {},
    "colab_type": "code",
    "id": "9xYZyNddBFEV",
    "outputId": "81595df5-0aee-442c-b5e0-b1c15a3af5e0"
   },
   "outputs": [
    {
     "name": "stdout",
     "output_type": "stream",
     "text": [
      "Hello world\n"
     ]
    }
   ],
   "source": [
    "print (\"Hello\" + \" world\") # Strings of text in python are written using \"quotation marks\"."
   ]
  },
  {
   "cell_type": "markdown",
   "metadata": {
    "colab_type": "text",
    "id": "thVVU5vhBFEj"
   },
   "source": [
    "What if you want to add a string and a number together? We can do this using the _str_ function, which converts a number into a _string_."
   ]
  },
  {
   "cell_type": "code",
   "execution_count": 0,
   "metadata": {
    "colab": {},
    "colab_type": "code",
    "id": "OhoFl8cOBFEm",
    "outputId": "f5f962c4-4526-419a-925c-f7ddfead3c6e"
   },
   "outputs": [
    {
     "name": "stdout",
     "output_type": "stream",
     "text": [
      "Five plus three multiplied by twenty-four is equal to 192\n"
     ]
    }
   ],
   "source": [
    "print (\"Five plus three multiplied by twenty-four is equal to \" + str( (5 + 3)*24 ))"
   ]
  },
  {
   "cell_type": "markdown",
   "metadata": {
    "colab_type": "text",
    "id": "DYfAqSP-BFE7"
   },
   "source": [
    "In all the above examples, try changing the numbers, doing more complicated calculations or move on if you feel comfortable with these concepts. You can try out your code by either editing the code in the above cells, or by creating new code cells."
   ]
  },
  {
   "cell_type": "markdown",
   "metadata": {
    "colab_type": "text",
    "id": "D0ibkJgT0NzK"
   },
   "source": [
    "## 4. SenseHat \n",
    "\n",
    "Just like print statements we can also display things with the LED lights on the SenseHat. \n",
    "\n",
    "#### Showing Messages\n",
    "\n",
    "Try running the following code: \n"
   ]
  },
  {
   "cell_type": "code",
   "execution_count": 0,
   "metadata": {
    "colab": {},
    "colab_type": "code",
    "id": "AOZUB6P10NzL",
    "outputId": "b7324d73-b5e0-480e-b9aa-0028bfad7069"
   },
   "outputs": [
    {
     "ename": "ModuleNotFoundError",
     "evalue": "No module named 'sense_hat'",
     "output_type": "error",
     "traceback": [
      "\u001b[1;31m---------------------------------------------------------------------------\u001b[0m",
      "\u001b[1;31mModuleNotFoundError\u001b[0m                       Traceback (most recent call last)",
      "\u001b[1;32m<ipython-input-15-9865694e265c>\u001b[0m in \u001b[0;36m<module>\u001b[1;34m()\u001b[0m\n\u001b[1;32m----> 1\u001b[1;33m \u001b[1;32mfrom\u001b[0m \u001b[0msense_hat\u001b[0m \u001b[1;32mimport\u001b[0m \u001b[0mSenseHat\u001b[0m\u001b[1;33m\u001b[0m\u001b[0m\n\u001b[0m\u001b[0;32m      2\u001b[0m \u001b[0msense\u001b[0m \u001b[1;33m=\u001b[0m \u001b[0mSenseHat\u001b[0m\u001b[1;33m(\u001b[0m\u001b[1;33m)\u001b[0m\u001b[1;33m\u001b[0m\u001b[0m\n\u001b[0;32m      3\u001b[0m \u001b[1;33m\u001b[0m\u001b[0m\n\u001b[0;32m      4\u001b[0m \u001b[0msense\u001b[0m\u001b[1;33m.\u001b[0m\u001b[0mshow_message\u001b[0m\u001b[1;33m(\u001b[0m\u001b[1;34m\"Hello world!\"\u001b[0m\u001b[1;33m,\u001b[0m \u001b[1;36m0.05\u001b[0m\u001b[1;33m)\u001b[0m\u001b[1;33m\u001b[0m\u001b[0m\n",
      "\u001b[1;31mModuleNotFoundError\u001b[0m: No module named 'sense_hat'"
     ]
    }
   ],
   "source": [
    "from sense_hat import SenseHat\n",
    "sense = SenseHat()\n",
    "\n",
    "sense.show_message(\"Hello world!\", 0.05)"
   ]
  },
  {
   "cell_type": "markdown",
   "metadata": {
    "colab_type": "text",
    "id": "bWxrb-480NzO"
   },
   "source": [
    "The show_message() function displays whatever string you put inside the bracket, on the Sense HAT.\n",
    "\n",
    "<span style=\"color:green\">_Execise 2_</span>\n",
    "\n",
    "- Try changing the message to something else \n",
    "- You might have noticed that there’s a number after the string. Try changing the value of that number. Find out what that number does."
   ]
  },
  {
   "cell_type": "markdown",
   "metadata": {
    "colab_type": "text",
    "id": "82_lx-S10NzQ"
   },
   "source": [
    "#### Drawing stuff on the Sense HAT: sense.set_pixel\n",
    "\n",
    "It’s really easy to draw things on the Sense HAT screen. We can do this using the function sense.set_pixel . Try running the following code: "
   ]
  },
  {
   "cell_type": "code",
   "execution_count": 0,
   "metadata": {
    "colab": {},
    "colab_type": "code",
    "id": "02q03FZl0NzR",
    "outputId": "b348c3d2-9e54-4395-d994-118b92e77278"
   },
   "outputs": [
    {
     "ename": "NameError",
     "evalue": "name 'SenseHat' is not defined",
     "output_type": "error",
     "traceback": [
      "\u001b[1;31m---------------------------------------------------------------------------\u001b[0m",
      "\u001b[1;31mNameError\u001b[0m                                 Traceback (most recent call last)",
      "\u001b[1;32m<ipython-input-30-c767fde4bd5e>\u001b[0m in \u001b[0;36m<module>\u001b[1;34m()\u001b[0m\n\u001b[1;32m----> 1\u001b[1;33m \u001b[0msense\u001b[0m \u001b[1;33m=\u001b[0m \u001b[0mSenseHat\u001b[0m\u001b[1;33m(\u001b[0m\u001b[1;33m)\u001b[0m\u001b[1;33m\u001b[0m\u001b[0m\n\u001b[0m\u001b[0;32m      2\u001b[0m \u001b[0msense\u001b[0m\u001b[1;33m.\u001b[0m\u001b[0mclear\u001b[0m\u001b[1;33m(\u001b[0m\u001b[1;33m)\u001b[0m\u001b[1;33m\u001b[0m\u001b[0m\n\u001b[0;32m      3\u001b[0m \u001b[0msense\u001b[0m\u001b[1;33m.\u001b[0m\u001b[0mset_pixel\u001b[0m\u001b[1;33m(\u001b[0m\u001b[1;36m2\u001b[0m\u001b[1;33m,\u001b[0m \u001b[1;36m2\u001b[0m\u001b[1;33m,\u001b[0m \u001b[1;36m255\u001b[0m\u001b[1;33m,\u001b[0m \u001b[1;36m255\u001b[0m\u001b[1;33m,\u001b[0m \u001b[1;36m255\u001b[0m\u001b[1;33m)\u001b[0m\u001b[1;33m\u001b[0m\u001b[0m\n\u001b[0;32m      4\u001b[0m \u001b[0msense\u001b[0m\u001b[1;33m.\u001b[0m\u001b[0mset_pixel\u001b[0m\u001b[1;33m(\u001b[0m\u001b[1;36m4\u001b[0m\u001b[1;33m,\u001b[0m \u001b[1;36m2\u001b[0m\u001b[1;33m,\u001b[0m \u001b[1;36m255\u001b[0m\u001b[1;33m,\u001b[0m \u001b[1;36m255\u001b[0m\u001b[1;33m,\u001b[0m \u001b[1;36m255\u001b[0m\u001b[1;33m)\u001b[0m\u001b[1;33m\u001b[0m\u001b[0m\n\u001b[0;32m      5\u001b[0m \u001b[0msense\u001b[0m\u001b[1;33m.\u001b[0m\u001b[0mset_pixel\u001b[0m\u001b[1;33m(\u001b[0m\u001b[1;36m3\u001b[0m\u001b[1;33m,\u001b[0m \u001b[1;36m3\u001b[0m\u001b[1;33m,\u001b[0m \u001b[1;36m255\u001b[0m\u001b[1;33m,\u001b[0m \u001b[1;36m255\u001b[0m\u001b[1;33m,\u001b[0m \u001b[1;36m255\u001b[0m\u001b[1;33m)\u001b[0m\u001b[1;33m\u001b[0m\u001b[0m\n",
      "\u001b[1;31mNameError\u001b[0m: name 'SenseHat' is not defined"
     ]
    }
   ],
   "source": [
    "sense = SenseHat()\n",
    "sense.clear()\n",
    "sense.set_pixel(2, 2, 255, 255, 255)\n",
    "sense.set_pixel(4, 2, 255, 255, 255)\n",
    "sense.set_pixel(3, 3, 255, 255, 255)\n",
    "sense.set_pixel(2, 4, 255, 255, 255)\n",
    "sense.set_pixel(4, 4, 255, 255, 255)"
   ]
  },
  {
   "cell_type": "markdown",
   "metadata": {
    "colab_type": "text",
    "id": "PetnIfC10NzU"
   },
   "source": [
    "It should draw a white cross on the screen. The first line, sense.clear, resets all the pixels on the screen to black. This is just to avoid any clutter on the screen if you make mistakes.\n",
    "\n",
    "How does the sense.set_pixel function work? \n",
    "\n",
    "- The first number is what column on the screen the pixel should be drawn at. We usually call this the x-coordinate.\n",
    "\n",
    "- The second number is what row on the screen the pixel should be drawn at. We usually call this the y-coordinate.\n",
    "\n",
    "- The last 3 numbers define the colour of the pixel (the third number is how much red, the fourth number is how much green and the fifth number is how much blue).  \n",
    "\n",
    "<span style=\"color:green\">_Execise 3_</span> \n",
    "\n",
    "- Play around with the code, and try do draw something of your own. Maybe the first letter of your name?\n",
    "- Try placing the sense.clear() line at the end of the code. What happens? Can you explain why? After that, place the line in the middle of the code. Again, what happens, and can you explain why that happens?"
   ]
  },
  {
   "cell_type": "markdown",
   "metadata": {
    "colab_type": "text",
    "id": "8wuTObzaBFE-"
   },
   "source": [
    "## 5. Variables\n",
    "Python allows us to store information in _variables_.  We can use the assignment operator (the _equal-to_ sign '=') to assign a value to a variable.\n",
    "\n",
    "There are three components to variable assignment.\n",
    " - First we need to decide on the name of our variable, like my_variable.\n",
    " - Second, we assign a value to the variable using the _equal-to_ sign '='.\n",
    " - Third, we write the value that the variable should be equal to.\n",
    " \n",
    "Like this:\n",
    "\n",
    "     my_variable = 123\n",
    "    \n",
    "We can also store strings in a variable:\n",
    " \n",
    "     my_variable = \"Hello!\"\n",
    "\n",
    "Note that the variable name must be written as _one continuous set of characters_ without spaces. So, for example, _my variable_ would not be a valid name for a variable.\n",
    "\n",
    "The code below shows how easy it is to define variables, and then use them with the print statement and SenseHat.\n"
   ]
  },
  {
   "cell_type": "code",
   "execution_count": 0,
   "metadata": {
    "colab": {},
    "colab_type": "code",
    "id": "O9ueVtsNBFFB",
    "outputId": "a201df79-b39f-47dd-c63a-e5c31ae963fe",
    "scrolled": true
   },
   "outputs": [
    {
     "name": "stdout",
     "output_type": "stream",
     "text": [
      "Five times seven is 35\n"
     ]
    },
    {
     "ename": "NameError",
     "evalue": "name 'sense' is not defined",
     "output_type": "error",
     "traceback": [
      "\u001b[1;31m---------------------------------------------------------------------------\u001b[0m",
      "\u001b[1;31mNameError\u001b[0m                                 Traceback (most recent call last)",
      "\u001b[1;32m<ipython-input-6-bd73b98d6dd8>\u001b[0m in \u001b[0;36m<module>\u001b[1;34m()\u001b[0m\n\u001b[0;32m      4\u001b[0m \u001b[1;33m\u001b[0m\u001b[0m\n\u001b[0;32m      5\u001b[0m \u001b[0mprint\u001b[0m\u001b[1;33m(\u001b[0m\u001b[0mmyMessage\u001b[0m\u001b[1;33m)\u001b[0m\u001b[1;33m\u001b[0m\u001b[0m\n\u001b[1;32m----> 6\u001b[1;33m \u001b[0msense\u001b[0m\u001b[1;33m.\u001b[0m\u001b[0mshow_message\u001b[0m\u001b[1;33m(\u001b[0m\u001b[0mmyMessage\u001b[0m\u001b[1;33m,\u001b[0m \u001b[1;36m0.05\u001b[0m\u001b[1;33m)\u001b[0m\u001b[1;33m\u001b[0m\u001b[0m\n\u001b[0m",
      "\u001b[1;31mNameError\u001b[0m: name 'sense' is not defined"
     ]
    }
   ],
   "source": [
    "sense = SenseHat()\n",
    "myNumber = 5*7\n",
    "someText = \"Five times seven is \"\n",
    "myMessage = someText + str(myNumber)\n",
    "\n",
    "print(myMessage)\n",
    "sense.show_message(myMessage, 0.05)"
   ]
  },
  {
   "cell_type": "markdown",
   "metadata": {
    "colab_type": "text",
    "id": "-1rw0kWv0NzZ"
   },
   "source": [
    "Explanation: We have used the str function to convert the number 57 to a *string “35”. Then we added the string “Five times seven is “ with “35” to form “Five times seven is 35”.\n",
    "\n",
    "<span style=\"color:green\">_Execise 4_</span>\n",
    "\n",
    "- Write a program that displays your full name and age on the SenseHat. Store your full name in a variable called myName, and store your age in a variable called myAge. Remember that you have to convert numbers to strings using the str function."
   ]
  },
  {
   "cell_type": "markdown",
   "metadata": {
    "colab_type": "text",
    "id": "Vv_duK3HBFFJ"
   },
   "source": [
    "#### A basic program \n",
    "\n",
    "Variables are quite useful, as they allow us to remember numbers (or other types of data, like _strings_) in terms of more memorable variable names. We can use these variables in our programs to compute things. Below is an example of a basic program that calculates how many minutes there are in a week."
   ]
  },
  {
   "cell_type": "code",
   "execution_count": 0,
   "metadata": {
    "colab": {},
    "colab_type": "code",
    "id": "afwOdWUaBFFM",
    "outputId": "cbd3a3f7-a98e-4168-c345-94f984006a73"
   },
   "outputs": [
    {
     "name": "stdout",
     "output_type": "stream",
     "text": [
      "There are 10080 minutes in a week.\n"
     ]
    },
    {
     "ename": "NameError",
     "evalue": "name 'sense' is not defined",
     "output_type": "error",
     "traceback": [
      "\u001b[1;31m---------------------------------------------------------------------------\u001b[0m",
      "\u001b[1;31mNameError\u001b[0m                                 Traceback (most recent call last)",
      "\u001b[1;32m<ipython-input-27-eef6defbac2d>\u001b[0m in \u001b[0;36m<module>\u001b[1;34m()\u001b[0m\n\u001b[0;32m      9\u001b[0m \u001b[1;33m\u001b[0m\u001b[0m\n\u001b[0;32m     10\u001b[0m \u001b[0mprint\u001b[0m\u001b[1;33m(\u001b[0m\u001b[0mmessage\u001b[0m\u001b[1;33m)\u001b[0m\u001b[1;33m\u001b[0m\u001b[0m\n\u001b[1;32m---> 11\u001b[1;33m \u001b[0msense\u001b[0m\u001b[1;33m.\u001b[0m\u001b[0mshow_message\u001b[0m\u001b[1;33m(\u001b[0m\u001b[0mmessage\u001b[0m\u001b[1;33m,\u001b[0m \u001b[1;36m0.05\u001b[0m\u001b[1;33m)\u001b[0m\u001b[1;33m\u001b[0m\u001b[0m\n\u001b[0m",
      "\u001b[1;31mNameError\u001b[0m: name 'sense' is not defined"
     ]
    }
   ],
   "source": [
    "minutes_in_an_hour = 60 # storing the number of minutes in an hour into a variable\n",
    "hours_in_a_day = 24 # Storing hours in a day into a variable\n",
    "days_in_a_week = 7\n",
    "\n",
    "# calculate the minutes in the week\n",
    "\n",
    "minutes_in_a_week = minutes_in_an_hour*hours_in_a_day*days_in_a_week\n",
    "message = \"There are \" + str(minutes_in_a_week) + \" minutes in a week.\"\n",
    "sense = SenseHat()\n",
    "\n",
    "print(message)\n",
    "sense.show_message(message, 0.05)\n"
   ]
  },
  {
   "cell_type": "markdown",
   "metadata": {
    "colab_type": "text",
    "id": "7lP8piIoBFFT"
   },
   "source": [
    "This may look like a trivially easy program to write, and it has a lot of tedious writing to do a basic calculation, but the point of the code was to demonstrate how variables work. In later tasks you find this information useful. "
   ]
  },
  {
   "cell_type": "markdown",
   "metadata": {
    "colab_type": "text",
    "id": "_EsNIC3XBFFq"
   },
   "source": [
    "## 6. If and Else statements\n",
    "\n",
    "This next part is where things get more interesting (and a bit more complicated)!\n",
    "\n",
    "The if-statement allows us to make a program that reacts in different ways, under different conditions. Think of it as a way to ask a computer questions.\n",
    "\n",
    "Look at the code below, can you guess what it does?"
   ]
  },
  {
   "cell_type": "code",
   "execution_count": 0,
   "metadata": {
    "colab": {},
    "colab_type": "code",
    "id": "0D9f38gSBFFs",
    "outputId": "9a70e172-d347-4c50-ffd6-cfdb63257b8b"
   },
   "outputs": [
    {
     "ename": "NameError",
     "evalue": "name 'sense' is not defined",
     "output_type": "error",
     "traceback": [
      "\u001b[1;31m---------------------------------------------------------------------------\u001b[0m",
      "\u001b[1;31mNameError\u001b[0m                                 Traceback (most recent call last)",
      "\u001b[1;32m<ipython-input-28-7a29c1a8135e>\u001b[0m in \u001b[0;36m<module>\u001b[1;34m()\u001b[0m\n\u001b[0;32m      4\u001b[0m   \u001b[0msense\u001b[0m\u001b[1;33m.\u001b[0m\u001b[0mshow_message\u001b[0m\u001b[1;33m(\u001b[0m\u001b[1;34m\"Your name is Ishan\"\u001b[0m\u001b[1;33m,\u001b[0m \u001b[1;36m0.03\u001b[0m\u001b[1;33m)\u001b[0m\u001b[1;33m\u001b[0m\u001b[0m\n\u001b[0;32m      5\u001b[0m \u001b[1;32melse\u001b[0m\u001b[1;33m:\u001b[0m\u001b[1;33m\u001b[0m\u001b[0m\n\u001b[1;32m----> 6\u001b[1;33m   \u001b[0msense\u001b[0m\u001b[1;33m.\u001b[0m\u001b[0mshow_message\u001b[0m\u001b[1;33m(\u001b[0m\u001b[1;34m\"Your name is not Ishan\"\u001b[0m\u001b[1;33m,\u001b[0m \u001b[1;36m0.03\u001b[0m\u001b[1;33m)\u001b[0m\u001b[1;33m\u001b[0m\u001b[0m\n\u001b[0m",
      "\u001b[1;31mNameError\u001b[0m: name 'sense' is not defined"
     ]
    }
   ],
   "source": [
    "sense = SenseHat()\n",
    "myName = \"Harjeet\"\n",
    "\n",
    "if myName == \"Ishan\":\n",
    "  sense.show_message(\"Your name is Ishan\", 0.03)\n",
    "else:\n",
    "  sense.show_message(\"Your name is not Ishan\", 0.03)"
   ]
  },
  {
   "cell_type": "markdown",
   "metadata": {
    "colab_type": "text",
    "id": "5z_6zub2BFFz"
   },
   "source": [
    "-  How can you change the variable myName so that the result of the program is different?\n",
    "\n",
    "Note that the code inside the if and the else clause are indented (2 spaces away from the left), the indentation tells the computer which parts of the code are inside the ‘if’ and the ‘else’ statements. To add an indentation to your code, press the Tab key on your keyboard.\n",
    "\n",
    "Essentially, the if-statement checks whether something is true or not. The dobuble-equals sign “==” means “is equal to”. So the code above translates to (in English):\n",
    "\n",
    "_If *myName* is equal to \"Ishan\", show \"Your name is Ishan\". If *myName* is\n",
    "not equal to \"Ishan\", show \"Your name is not Ishan\"._\n",
    "\n",
    "The code that is in the true part of the code, is on the lines below the if. The code that is in the false part of the code, is on the lines below the else."
   ]
  },
  {
   "cell_type": "code",
   "execution_count": 0,
   "metadata": {
    "colab": {},
    "colab_type": "code",
    "id": "3Slm0DLyBFF2",
    "outputId": "c1e9c447-76b6-4d49-f7d6-200b51ed8ffa"
   },
   "outputs": [
    {
     "name": "stdout",
     "output_type": "stream",
     "text": [
      "The number is less than 20.\n",
      "The number is larger than 5.\n",
      "The number is equal to 10.\n"
     ]
    }
   ],
   "source": [
    "my_number = 10\n",
    "\n",
    "if my_number < 20:\n",
    "    print(\"The number is less than 20.\")\n",
    "    \n",
    "if my_number > 5:\n",
    "    print(\"The number is larger than 5.\")\n",
    "    \n",
    "if my_number == 10:\n",
    "    print(\"The number is equal to 10.\")\n",
    "else:\n",
    "    print(\"The number is not equal to 10.\")"
   ]
  },
  {
   "cell_type": "markdown",
   "metadata": {
    "colab_type": "text",
    "id": "e48JAoCZBFGC"
   },
   "source": [
    "In the examples above, we were able to compare our variables by _comparing them_ using the >=, <, > and == symbols. Here's a summary of some important _comparison operators_ in Python:\n",
    "\n",
    " - _a > b_ a is greater b.\n",
    " - _a < b_ a is less than b.\n",
    " - _a >= b_ a is greater than or equal to b.\n",
    " - _a <= b_ a is less than or equal to b.\n",
    " - _a == b_ a is equal to b. We use double equals because single equals is used to assign values to variables.\n",
    " - _a != b_ a is not equal to b. We use double equals because single equals is used to assign values to variables.\n",
    " \n",
    "We can test these comparison operators using print statements."
   ]
  },
  {
   "cell_type": "code",
   "execution_count": 0,
   "metadata": {
    "colab": {},
    "colab_type": "code",
    "id": "60aiCFVnBFGE",
    "outputId": "de5161ce-7bc2-4dd5-89fd-b88c4cb7db11"
   },
   "outputs": [
    {
     "name": "stdout",
     "output_type": "stream",
     "text": [
      "False\n",
      "False\n",
      "True\n",
      "False\n",
      "True\n"
     ]
    }
   ],
   "source": [
    "print(1 > 1) # 1 is never bigger than 1\n",
    "print(1 >= 2) # but 1 is bigger than or equal to 1\n",
    "\n",
    "print(2 < 3) # 2 is less than 3\n",
    "\n",
    "print(1 == 2) # 1 is not equal to 2\n",
    "print(3 != 4) # 3 is not equal to 4"
   ]
  },
  {
   "cell_type": "markdown",
   "metadata": {
    "colab_type": "text",
    "id": "rAt_Pzn1BFGP"
   },
   "source": [
    "What is it that these print statements show? They show a value of _True_ or _False_ depending on whether the comparison made is a true or a false _statement_. For example, _10 > 21_ is a _false_ statement. _True_ or _False_ are known as _boolean_ values. We'll go into more detail about them in another session, but for now think of them as simply a way to state and store the truth or falsity of something.\n",
    "\n",
    "When we run code that has an expression like _1 == 2_, Python will convert it into a _True_ or _False_ value. This is what happens in the above print statements, the values that we see that are being shown are just the converted _boolean_ values!\n",
    "\n",
    "How does this relate to _if_-statements? Look at a generic example of one:\n",
    "\n",
    "    if [some expression]:\n",
    "        print \"The code inside the if-statement ran!\"\n",
    "        \n",
    "The print statement inside the clause will run if the _[some expression]_ bit will _evaluate_ to _True_. Don't worry if that sounds confusing. What's basically happening is that Python will run _[some expression]_, and then decide whether the expression is true or not. If the expression is true, the code inside the if-statement will run, otherwise it will skip it."
   ]
  },
  {
   "cell_type": "markdown",
   "metadata": {
    "colab_type": "text",
    "id": "5kobfMqdBFGq"
   },
   "source": [
    "<span style=\"color:green\">_Execise 5_</span>\n",
    "- Now, try writing a program that asks the user to enter a number. Your program should then tell the user whether the number is positive, negative or equal to zero."
   ]
  },
  {
   "cell_type": "markdown",
   "metadata": {
    "colab_type": "text",
    "id": "_rVuYVV50Nzu"
   },
   "source": [
    "## 7. Lists\n",
    "\n",
    "In Python, we can not only store numbers and strings in variables, we can also store\n",
    "a *list* of items in a variable.\n",
    "\n",
    "```Python\n",
    "myList = [42, 51, 62, \"Hello\", 61, 123, \"World\"]\n",
    "```\n",
    "\n",
    "If we want to access individual elements in the list, we can do it like this:\n"
   ]
  },
  {
   "cell_type": "code",
   "execution_count": 0,
   "metadata": {
    "colab": {},
    "colab_type": "code",
    "id": "irqpxaVU0Nzu",
    "outputId": "6973e3dd-dd52-46d3-85ec-820ea46ed38f"
   },
   "outputs": [
    {
     "name": "stdout",
     "output_type": "stream",
     "text": [
      "42\n",
      "62\n",
      "61\n"
     ]
    }
   ],
   "source": [
    "myList = [42, 51, 62, \"Hello\", 61, 123, \"World\"]\n",
    "\n",
    "# The first element in the list\n",
    "print(myList[0])\n",
    "\n",
    "# The third element in the list\n",
    "print(myList[2])\n",
    "\n",
    "# The fifth element in the list\n",
    "print(myList[4])"
   ]
  },
  {
   "cell_type": "markdown",
   "metadata": {
    "colab_type": "text",
    "id": "RByii-uR0Nzx"
   },
   "source": [
    "\n",
    "Note that the *first* element is given by the number *0* in the list, and the second by *1* and so on...\n",
    "\n",
    "<span style=\"color:green\">_Execise 6_</span>\n",
    "\n",
    "- Repeat Exercise 4, but instead of storing your\n",
    "name and age is separate variables, store them in a *single* list."
   ]
  },
  {
   "cell_type": "markdown",
   "metadata": {
    "colab_type": "text",
    "id": "IDfdyrxNBFGr"
   },
   "source": [
    "## 8. For loops\n",
    "\n",
    "The next thing we will look at is the _for loop_. Loops are really important in programming. Often in programming we find ourselves in a situation where we have to repeat the same code several times on some number or set of data. Loops allow us to accomplish this in fewer lines of code, by _repeating_ code until the operation is complete.\n",
    "\n",
    "Look at the code below, what do you think it does? Run it and see if you can figure it out."
   ]
  },
  {
   "cell_type": "code",
   "execution_count": 0,
   "metadata": {
    "colab": {},
    "colab_type": "code",
    "id": "5q6gPmzwBFGt",
    "outputId": "aebb8ac5-1efa-46a9-fc39-4c1f1ccabd3c"
   },
   "outputs": [
    {
     "name": "stdout",
     "output_type": "stream",
     "text": [
      "The number is 1\n",
      "The number is 2\n",
      "The number is 3\n",
      "The number is 4\n",
      "The number is 5\n",
      "The number is 6\n",
      "The number is 7\n",
      "The number is 8\n",
      "The number is 9\n"
     ]
    }
   ],
   "source": [
    "for n in range(1,10): \n",
    "    #Sets up a loop that runs the program for n equals 1 and ends at but does not include 10.\n",
    "    \n",
    "    \n",
    "    print (\"The number is\", n) \n",
    "    #Prints the statement \"the number is\" and then the value of n for n going from 1 to 9."
   ]
  },
  {
   "cell_type": "markdown",
   "metadata": {
    "colab_type": "text",
    "id": "OPqoYCIhBFG1"
   },
   "source": [
    "<span style=\"color:green\">_Execise 7_</span>\n",
    "\n",
    "- Write a script that does the folllowing: \n",
    "\n",
    "    1) Prints the numbers from 50 to 100.\n",
    "\n",
    "    2) Prints the 2 times table. "
   ]
  },
  {
   "cell_type": "markdown",
   "metadata": {
    "colab_type": "text",
    "id": "r9nF0AeT0Nz6"
   },
   "source": [
    "How about this code?"
   ]
  },
  {
   "cell_type": "code",
   "execution_count": 0,
   "metadata": {
    "colab": {},
    "colab_type": "code",
    "id": "D0FdjJUE0Nz6",
    "outputId": "04797d7a-8be7-4878-bce4-20f62d80e212"
   },
   "outputs": [
    {
     "ename": "NameError",
     "evalue": "name 'SenseHat' is not defined",
     "output_type": "error",
     "traceback": [
      "\u001b[1;31m---------------------------------------------------------------------------\u001b[0m",
      "\u001b[1;31mNameError\u001b[0m                                 Traceback (most recent call last)",
      "\u001b[1;32m<ipython-input-31-2f262c3e0026>\u001b[0m in \u001b[0;36m<module>\u001b[1;34m()\u001b[0m\n\u001b[1;32m----> 1\u001b[1;33m \u001b[0msense\u001b[0m \u001b[1;33m=\u001b[0m \u001b[0mSenseHat\u001b[0m\u001b[1;33m(\u001b[0m\u001b[1;33m)\u001b[0m\u001b[1;33m\u001b[0m\u001b[0m\n\u001b[0m\u001b[0;32m      2\u001b[0m \u001b[1;32mfor\u001b[0m \u001b[0mn\u001b[0m \u001b[1;32min\u001b[0m \u001b[0mrange\u001b[0m\u001b[1;33m(\u001b[0m\u001b[1;36m1\u001b[0m\u001b[1;33m,\u001b[0m \u001b[1;36m5\u001b[0m\u001b[1;33m)\u001b[0m\u001b[1;33m:\u001b[0m\u001b[1;33m\u001b[0m\u001b[0m\n\u001b[0;32m      3\u001b[0m   \u001b[0msense\u001b[0m\u001b[1;33m.\u001b[0m\u001b[0mset_pixel\u001b[0m\u001b[1;33m(\u001b[0m\u001b[0mn\u001b[0m\u001b[1;33m,\u001b[0m \u001b[1;36m0\u001b[0m\u001b[1;33m,\u001b[0m \u001b[1;36m0\u001b[0m\u001b[1;33m,\u001b[0m \u001b[1;36m0\u001b[0m\u001b[1;33m,\u001b[0m \u001b[1;36m255\u001b[0m\u001b[1;33m)\u001b[0m\u001b[1;33m\u001b[0m\u001b[0m\n",
      "\u001b[1;31mNameError\u001b[0m: name 'SenseHat' is not defined"
     ]
    }
   ],
   "source": [
    "sense = SenseHat()\n",
    "for n in range(1, 5):\n",
    "  sense.set_pixel(n, 0, 0, 0, 255)"
   ]
  },
  {
   "cell_type": "markdown",
   "metadata": {
    "colab_type": "text",
    "id": "vW-NaFT60Nz_"
   },
   "source": [
    "Play around with the code and see if you can make it do more complicated things!#\n",
    "\n",
    "<span style=\"color:green\">_Execise 8_</span>\n",
    "\n",
    "- Write a program that draws a line of yellow pixels from the top-left corner, to the bottom-right corner.\n"
   ]
  },
  {
   "cell_type": "markdown",
   "metadata": {
    "colab_type": "text",
    "id": "8kihIwZ2BFG1"
   },
   "source": [
    "## 9. While Loop\n",
    "\n",
    "Another type of loop that we can use in Python is the _while loop_.\n",
    "\n",
    "The while loop repeats its code as long as the expression after the _while_ command evaluates to _True_. In this way it's very similar to an _if_-statement. You can think of it as a mix between an _if-statement_ and a _for-loop_.\n",
    "\n",
    "The previous explanation might be a bit complicated to follow, but if you look at the code below you can see that it's quite intuitive."
   ]
  },
  {
   "cell_type": "code",
   "execution_count": 0,
   "metadata": {
    "colab": {},
    "colab_type": "code",
    "id": "hB3W_7wPBFG2",
    "outputId": "ca9f05dd-cbdf-42b0-dc6f-1c3e631a2f3b"
   },
   "outputs": [
    {
     "name": "stdout",
     "output_type": "stream",
     "text": [
      "1\n",
      "2\n",
      "3\n",
      "4\n",
      "5\n",
      "6\n",
      "7\n",
      "8\n",
      "9\n",
      "10\n"
     ]
    }
   ],
   "source": [
    "n = 0 # Initialising n\n",
    "while n < 10: # Starting the loop with condition that n must be less than 10\n",
    "    n = n + 1 # redefines n as n+1 \n",
    "    print(n) # print the new value of n"
   ]
  },
  {
   "cell_type": "markdown",
   "metadata": {
    "colab_type": "text",
    "id": "1QH0Z3zjBFG7"
   },
   "source": [
    "<span style=\"color:green\">_Execise 9_</span>\n",
    "\n",
    "- Redo exercise 7, but with a while-loop, instead of a for-loop."
   ]
  },
  {
   "cell_type": "markdown",
   "metadata": {
    "colab": {},
    "colab_type": "code",
    "id": "8_r8IHNrBFG8"
   },
   "source": [
    "## 10. What's next?\n",
    "\n",
    "The next thing is to ask yourself if you've understood everything!\n",
    "We covered quite a lot, and very quickly, so it might be worth to just have a quick read-through of everything again.\n",
    "\n",
    "After that, have a go at the clock project or magic 8!  Remember that you can\n",
    "always ask for help within your group, or by a supervisor, during the entirety of the sessions.\n",
    "\n",
    "We discussed some useful functions in this lecture, like *sense.set_pixel* and *print*. There\n",
    "are many more functions you can use, and the best way to check them all out is by reading\n",
    "the [*Function Reference*](https://hacking-science.github.io/Raspberry-Pi/docs/function_reference.html) document. Use that document as a reference on how to use various\n",
    "Python functions. Also google!\n",
    "\n",
    "\n",
    "---\n",
    "\n",
    "**Copyright (c)** 2019 hackingEducation All Rights Reserved.\n"
   ]
  },
  {
   "cell_type": "code",
   "execution_count": 0,
   "metadata": {
    "colab": {},
    "colab_type": "code",
    "id": "nX1pl0Mo0N0J"
   },
   "outputs": [],
   "source": []
  }
 ],
 "metadata": {
  "colab": {
   "name": "hackingEducation-Session-1-Introduction-to-Python-with-SenseHat.ipynb",
   "provenance": [],
   "toc_visible": true,
   "version": "0.3.2"
  },
  "kernelspec": {
   "display_name": "Python 3",
   "language": "python",
   "name": "python3"
  },
  "language_info": {
   "codemirror_mode": {
    "name": "ipython",
    "version": 3
   },
   "file_extension": ".py",
   "mimetype": "text/x-python",
   "name": "python",
   "nbconvert_exporter": "python",
   "pygments_lexer": "ipython3",
   "version": "3.7.2"
  }
 },
 "nbformat": 4,
 "nbformat_minor": 1
}
